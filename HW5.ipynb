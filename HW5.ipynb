{
 "cells": [
  {
   "cell_type": "code",
   "execution_count": 180,
   "metadata": {},
   "outputs": [],
   "source": [
    "import pandas as pd\n",
    "import math"
   ]
  },
  {
   "cell_type": "code",
   "execution_count": 181,
   "metadata": {},
   "outputs": [],
   "source": [
    "import numpy as np"
   ]
  },
  {
   "cell_type": "code",
   "execution_count": 182,
   "metadata": {},
   "outputs": [],
   "source": [
    "import matplotlib.pyplot as plt"
   ]
  },
  {
   "cell_type": "code",
   "execution_count": null,
   "metadata": {},
   "outputs": [],
   "source": [
    "##TASK1"
   ]
  },
  {
   "cell_type": "code",
   "execution_count": null,
   "metadata": {},
   "outputs": [],
   "source": [
    "#part1"
   ]
  },
  {
   "cell_type": "code",
   "execution_count": 19,
   "metadata": {},
   "outputs": [],
   "source": [
    "points=[[3,5],[3,4],[2,8],[2,3],[6,2],[6,4],[7,3],[7,4],[8,5],[7,6]]"
   ]
  },
  {
   "cell_type": "code",
   "execution_count": 20,
   "metadata": {},
   "outputs": [],
   "source": [
    "def manhattan(points, center1, center2):\n",
    "    for i in range(len(points)):\n",
    "        horiz1 = abs(points[i][0] - center1[0])\n",
    "        vertic1 = abs(points[i][1] - center1[1])\n",
    "        sum_man_1 =horiz1 + vertic1\n",
    "        \n",
    "        horiz2 = abs(points[i][0] - center2[0])\n",
    "        vertic2 = abs(points[i][1] - center2[1])\n",
    "        sum_man_2 =horiz2 + vertic2\n",
    "        \n",
    "        if sum_man_1 >= sum_man_2:\n",
    "            print(\"Cluster 2\")\n",
    "        else:\n",
    "            print(\"Cluster 1\")\n",
    "        "
   ]
  },
  {
   "cell_type": "code",
   "execution_count": 21,
   "metadata": {},
   "outputs": [],
   "source": [
    "center1 = [4,6]\n",
    "center2 = [5,4]"
   ]
  },
  {
   "cell_type": "code",
   "execution_count": 22,
   "metadata": {},
   "outputs": [
    {
     "name": "stdout",
     "output_type": "stream",
     "text": [
      "Cluster 1\n",
      "Cluster 2\n",
      "Cluster 1\n",
      "Cluster 2\n",
      "Cluster 2\n",
      "Cluster 2\n",
      "Cluster 2\n",
      "Cluster 2\n",
      "Cluster 2\n",
      "Cluster 1\n"
     ]
    }
   ],
   "source": [
    "manhattan(points, center1, center2)"
   ]
  },
  {
   "cell_type": "code",
   "execution_count": 23,
   "metadata": {},
   "outputs": [
    {
     "data": {
      "text/plain": [
       "[4.0, 6.333333333333333]"
      ]
     },
     "execution_count": 23,
     "metadata": {},
     "output_type": "execute_result"
    }
   ],
   "source": [
    "center1[0]=(points[0][0]+points[2][0]+points[9][0])/3\n",
    "center1[1]=(points[0][1]+points[2][1]+points[9][1])/3\n",
    "center1"
   ]
  },
  {
   "cell_type": "code",
   "execution_count": 24,
   "metadata": {},
   "outputs": [
    {
     "data": {
      "text/plain": [
       "[5.571428571428571, 3.5714285714285716]"
      ]
     },
     "execution_count": 24,
     "metadata": {},
     "output_type": "execute_result"
    }
   ],
   "source": [
    "center2[0]=(points[1][0]+points[3][0]+points[4][0]+points[5][0]+points[6][0]+points[7][0]+points[8][0])/7\n",
    "center2[1]=(points[1][1]+points[3][1]+points[4][1]+points[5][1]+points[6][1]+points[7][1]+points[8][1])/7\n",
    "center2"
   ]
  },
  {
   "cell_type": "code",
   "execution_count": 25,
   "metadata": {},
   "outputs": [
    {
     "name": "stdout",
     "output_type": "stream",
     "text": [
      "Cluster 1\n",
      "Cluster 2\n",
      "Cluster 1\n",
      "Cluster 2\n",
      "Cluster 2\n",
      "Cluster 2\n",
      "Cluster 2\n",
      "Cluster 2\n",
      "Cluster 2\n",
      "Cluster 1\n"
     ]
    }
   ],
   "source": [
    "manhattan(points, center1, center2)"
   ]
  },
  {
   "cell_type": "code",
   "execution_count": 26,
   "metadata": {},
   "outputs": [
    {
     "data": {
      "text/plain": [
       "[4.0, 6.333333333333333]"
      ]
     },
     "execution_count": 26,
     "metadata": {},
     "output_type": "execute_result"
    }
   ],
   "source": [
    "center1[0]=(points[0][0]+points[2][0]+points[9][0])/3\n",
    "center1[1]=(points[0][1]+points[2][1]+points[9][1])/3\n",
    "center1"
   ]
  },
  {
   "cell_type": "code",
   "execution_count": 27,
   "metadata": {},
   "outputs": [
    {
     "data": {
      "text/plain": [
       "[5.571428571428571, 3.5714285714285716]"
      ]
     },
     "execution_count": 27,
     "metadata": {},
     "output_type": "execute_result"
    }
   ],
   "source": [
    "center2[0]=(points[1][0]+points[3][0]+points[4][0]+points[5][0]+points[6][0]+points[7][0]+points[8][0])/7\n",
    "center2[1]=(points[1][1]+points[3][1]+points[4][1]+points[5][1]+points[6][1]+points[7][1]+points[8][1])/7\n",
    "center2"
   ]
  },
  {
   "cell_type": "code",
   "execution_count": null,
   "metadata": {},
   "outputs": [],
   "source": [
    "##part2"
   ]
  },
  {
   "cell_type": "code",
   "execution_count": 28,
   "metadata": {},
   "outputs": [],
   "source": [
    "import math"
   ]
  },
  {
   "cell_type": "code",
   "execution_count": 29,
   "metadata": {},
   "outputs": [],
   "source": [
    "def euclidean(points, center1, center2):\n",
    "    for i in range(len(points)):\n",
    "        horiz1 = (points[i][0] - center1[0])**2\n",
    "        vertic1 = (points[i][1] - center1[1])**2\n",
    "        euc1=math.sqrt(horiz1 + vertic1)\n",
    "        \n",
    "        horiz2 = (points[i][0] - center2[0])**2\n",
    "        vertic2 = (points[i][1] - center2[1])**2\n",
    "        euc2 =math.sqrt(horiz2 + vertic2)\n",
    "        \n",
    "        if euc1 >= euc2:\n",
    "            print(\"Cluster 2\")\n",
    "        else:\n",
    "            print(\"Cluster 1\")"
   ]
  },
  {
   "cell_type": "code",
   "execution_count": 30,
   "metadata": {},
   "outputs": [],
   "source": [
    "center1=[4,6]\n",
    "center2=[5,4]"
   ]
  },
  {
   "cell_type": "code",
   "execution_count": 31,
   "metadata": {},
   "outputs": [
    {
     "name": "stdout",
     "output_type": "stream",
     "text": [
      "Cluster 1\n",
      "Cluster 2\n",
      "Cluster 1\n",
      "Cluster 2\n",
      "Cluster 2\n",
      "Cluster 2\n",
      "Cluster 2\n",
      "Cluster 2\n",
      "Cluster 2\n",
      "Cluster 2\n"
     ]
    }
   ],
   "source": [
    "euclidean(points, center1, center2)"
   ]
  },
  {
   "cell_type": "code",
   "execution_count": 32,
   "metadata": {},
   "outputs": [
    {
     "data": {
      "text/plain": [
       "[2.5, 6.5]"
      ]
     },
     "execution_count": 32,
     "metadata": {},
     "output_type": "execute_result"
    }
   ],
   "source": [
    "center1[0]=(points[0][0]+points[2][0])/2\n",
    "center1[1]=(points[0][1]+points[2][1])/2\n",
    "center1"
   ]
  },
  {
   "cell_type": "code",
   "execution_count": 33,
   "metadata": {},
   "outputs": [
    {
     "data": {
      "text/plain": [
       "[5.75, 3.875]"
      ]
     },
     "execution_count": 33,
     "metadata": {},
     "output_type": "execute_result"
    }
   ],
   "source": [
    "center2[0]=(points[1][0]+points[3][0]+points[4][0]+points[5][0]+points[6][0]+points[7][0]+points[8][0]+points[9][0])/8\n",
    "center2[1]=(points[1][1]+points[3][1]+points[4][1]+points[5][1]+points[6][1]+points[7][1]+points[8][1]+points[9][1])/8\n",
    "center2"
   ]
  },
  {
   "cell_type": "code",
   "execution_count": 34,
   "metadata": {},
   "outputs": [
    {
     "name": "stdout",
     "output_type": "stream",
     "text": [
      "Cluster 1\n",
      "Cluster 1\n",
      "Cluster 1\n",
      "Cluster 1\n",
      "Cluster 2\n",
      "Cluster 2\n",
      "Cluster 2\n",
      "Cluster 2\n",
      "Cluster 2\n",
      "Cluster 2\n"
     ]
    }
   ],
   "source": [
    "euclidean(points, center1, center2)"
   ]
  },
  {
   "cell_type": "code",
   "execution_count": 35,
   "metadata": {},
   "outputs": [
    {
     "data": {
      "text/plain": [
       "[2.5, 5.0]"
      ]
     },
     "execution_count": 35,
     "metadata": {},
     "output_type": "execute_result"
    }
   ],
   "source": [
    "center1[0]=(points[0][0]+points[2][0]+points[1][0]+points[3][0])/4\n",
    "center1[1]=(points[0][1]+points[2][1]+points[1][1]+points[3][1])/4\n",
    "center1"
   ]
  },
  {
   "cell_type": "code",
   "execution_count": 36,
   "metadata": {},
   "outputs": [
    {
     "data": {
      "text/plain": [
       "[6.833333333333333, 4.0]"
      ]
     },
     "execution_count": 36,
     "metadata": {},
     "output_type": "execute_result"
    }
   ],
   "source": [
    "center2[0]=(points[4][0]+points[5][0]+points[6][0]+points[7][0]+points[8][0]+points[9][0])/6\n",
    "center2[1]=(points[4][1]+points[5][1]+points[6][1]+points[7][1]+points[8][1]+points[9][1])/6\n",
    "center2"
   ]
  },
  {
   "cell_type": "code",
   "execution_count": 37,
   "metadata": {},
   "outputs": [
    {
     "name": "stdout",
     "output_type": "stream",
     "text": [
      "Cluster 1\n",
      "Cluster 1\n",
      "Cluster 1\n",
      "Cluster 1\n",
      "Cluster 2\n",
      "Cluster 2\n",
      "Cluster 2\n",
      "Cluster 2\n",
      "Cluster 2\n",
      "Cluster 2\n"
     ]
    }
   ],
   "source": [
    "euclidean(points, center1, center2)"
   ]
  },
  {
   "cell_type": "code",
   "execution_count": 38,
   "metadata": {},
   "outputs": [
    {
     "data": {
      "text/plain": [
       "[2.5, 5.0]"
      ]
     },
     "execution_count": 38,
     "metadata": {},
     "output_type": "execute_result"
    }
   ],
   "source": [
    "center1[0]=(points[0][0]+points[1][0]+points[2][0]+points[3][0])/4\n",
    "center1[1]=(points[0][1]+points[1][1]+points[2][1]+points[3][1])/4\n",
    "center1"
   ]
  },
  {
   "cell_type": "code",
   "execution_count": 39,
   "metadata": {},
   "outputs": [
    {
     "data": {
      "text/plain": [
       "[6.833333333333333, 4.0]"
      ]
     },
     "execution_count": 39,
     "metadata": {},
     "output_type": "execute_result"
    }
   ],
   "source": [
    "center2[0]=(points[4][0]+points[5][0]+points[6][0]+points[7][0]+points[8][0]+points[9][0])/6\n",
    "center2[1]=(points[4][1]+points[5][1]+points[6][1]+points[7][1]+points[8][1]+points[9][1])/6\n",
    "center2"
   ]
  },
  {
   "cell_type": "code",
   "execution_count": null,
   "metadata": {},
   "outputs": [],
   "source": [
    "#part3"
   ]
  },
  {
   "cell_type": "code",
   "execution_count": 40,
   "metadata": {},
   "outputs": [],
   "source": [
    "center1=[3,3]\n",
    "center2=[8,3]"
   ]
  },
  {
   "cell_type": "code",
   "execution_count": 41,
   "metadata": {},
   "outputs": [
    {
     "name": "stdout",
     "output_type": "stream",
     "text": [
      "Cluster 1\n",
      "Cluster 1\n",
      "Cluster 1\n",
      "Cluster 1\n",
      "Cluster 2\n",
      "Cluster 2\n",
      "Cluster 2\n",
      "Cluster 2\n",
      "Cluster 2\n",
      "Cluster 2\n"
     ]
    }
   ],
   "source": [
    "manhattan(points, center1, center2)"
   ]
  },
  {
   "cell_type": "code",
   "execution_count": 42,
   "metadata": {},
   "outputs": [
    {
     "data": {
      "text/plain": [
       "[2.5, 5.0]"
      ]
     },
     "execution_count": 42,
     "metadata": {},
     "output_type": "execute_result"
    }
   ],
   "source": [
    "center1[0]=(points[0][0]+points[1][0]+points[2][0]+points[3][0])/4\n",
    "center1[1]=(points[0][1]+points[1][1]+points[2][1]+points[3][1])/4\n",
    "center1"
   ]
  },
  {
   "cell_type": "code",
   "execution_count": 43,
   "metadata": {},
   "outputs": [
    {
     "data": {
      "text/plain": [
       "[6.833333333333333, 4.0]"
      ]
     },
     "execution_count": 43,
     "metadata": {},
     "output_type": "execute_result"
    }
   ],
   "source": [
    "center2[0]=(points[4][0]+points[5][0]+points[6][0]+points[7][0]+points[8][0]+points[9][0])/6\n",
    "center2[1]=(points[4][1]+points[5][1]+points[6][1]+points[7][1]+points[8][1]+points[9][1])/6\n",
    "center2"
   ]
  },
  {
   "cell_type": "code",
   "execution_count": 44,
   "metadata": {},
   "outputs": [
    {
     "name": "stdout",
     "output_type": "stream",
     "text": [
      "Cluster 1\n",
      "Cluster 1\n",
      "Cluster 1\n",
      "Cluster 1\n",
      "Cluster 2\n",
      "Cluster 2\n",
      "Cluster 2\n",
      "Cluster 2\n",
      "Cluster 2\n",
      "Cluster 2\n"
     ]
    }
   ],
   "source": [
    "manhattan(points, center1, center2)"
   ]
  },
  {
   "cell_type": "code",
   "execution_count": 45,
   "metadata": {},
   "outputs": [
    {
     "data": {
      "text/plain": [
       "[2.5, 5.0]"
      ]
     },
     "execution_count": 45,
     "metadata": {},
     "output_type": "execute_result"
    }
   ],
   "source": [
    "center1[0]=(points[0][0]+points[1][0]+points[2][0]+points[3][0])/4\n",
    "center1[1]=(points[0][1]+points[1][1]+points[2][1]+points[3][1])/4\n",
    "center1"
   ]
  },
  {
   "cell_type": "code",
   "execution_count": 46,
   "metadata": {},
   "outputs": [
    {
     "data": {
      "text/plain": [
       "[6.833333333333333, 4.0]"
      ]
     },
     "execution_count": 46,
     "metadata": {},
     "output_type": "execute_result"
    }
   ],
   "source": [
    "center2[0]=(points[4][0]+points[5][0]+points[6][0]+points[7][0]+points[8][0]+points[9][0])/6\n",
    "center2[1]=(points[4][1]+points[5][1]+points[6][1]+points[7][1]+points[8][1]+points[9][1])/6\n",
    "center2"
   ]
  },
  {
   "cell_type": "code",
   "execution_count": 47,
   "metadata": {},
   "outputs": [],
   "source": [
    "##part4"
   ]
  },
  {
   "cell_type": "code",
   "execution_count": 48,
   "metadata": {},
   "outputs": [],
   "source": [
    "center1=[3,2]\n",
    "center2=[4,8]"
   ]
  },
  {
   "cell_type": "code",
   "execution_count": 49,
   "metadata": {},
   "outputs": [
    {
     "name": "stdout",
     "output_type": "stream",
     "text": [
      "Cluster 1\n",
      "Cluster 1\n",
      "Cluster 2\n",
      "Cluster 1\n",
      "Cluster 1\n",
      "Cluster 1\n",
      "Cluster 1\n",
      "Cluster 1\n",
      "Cluster 2\n",
      "Cluster 2\n"
     ]
    }
   ],
   "source": [
    "manhattan(points, center1, center2)"
   ]
  },
  {
   "cell_type": "code",
   "execution_count": 50,
   "metadata": {},
   "outputs": [
    {
     "data": {
      "text/plain": [
       "[4.857142857142857, 3.5714285714285716]"
      ]
     },
     "execution_count": 50,
     "metadata": {},
     "output_type": "execute_result"
    }
   ],
   "source": [
    "center1[0]=(points[0][0]+points[1][0]+points[3][0]+points[4][0]+points[5][0]+points[6][0]+points[7][0])/7\n",
    "center1[1]=(points[0][1]+points[1][1]+points[3][1]+points[4][1]+points[5][1]+points[6][1]+points[7][1])/7\n",
    "center1"
   ]
  },
  {
   "cell_type": "code",
   "execution_count": 51,
   "metadata": {},
   "outputs": [
    {
     "data": {
      "text/plain": [
       "[5.666666666666667, 6.333333333333333]"
      ]
     },
     "execution_count": 51,
     "metadata": {},
     "output_type": "execute_result"
    }
   ],
   "source": [
    "center2[0]=(points[2][0]+points[8][0]+points[9][0])/3\n",
    "center2[1]=(points[2][1]+points[8][1]+points[9][1])/3\n",
    "center2"
   ]
  },
  {
   "cell_type": "code",
   "execution_count": 52,
   "metadata": {},
   "outputs": [
    {
     "name": "stdout",
     "output_type": "stream",
     "text": [
      "Cluster 1\n",
      "Cluster 1\n",
      "Cluster 2\n",
      "Cluster 1\n",
      "Cluster 1\n",
      "Cluster 1\n",
      "Cluster 1\n",
      "Cluster 1\n",
      "Cluster 2\n",
      "Cluster 2\n"
     ]
    }
   ],
   "source": [
    "manhattan(points, center1, center2)"
   ]
  },
  {
   "cell_type": "code",
   "execution_count": 53,
   "metadata": {},
   "outputs": [
    {
     "data": {
      "text/plain": [
       "[2.5, 5.0]"
      ]
     },
     "execution_count": 53,
     "metadata": {},
     "output_type": "execute_result"
    }
   ],
   "source": [
    "center1[0]=(points[0][0]+points[1][0]+points[2][0]+points[3][0])/4\n",
    "center1[1]=(points[0][1]+points[1][1]+points[2][1]+points[3][1])/4\n",
    "center1"
   ]
  },
  {
   "cell_type": "code",
   "execution_count": 54,
   "metadata": {},
   "outputs": [
    {
     "data": {
      "text/plain": [
       "[6.833333333333333, 4.0]"
      ]
     },
     "execution_count": 54,
     "metadata": {},
     "output_type": "execute_result"
    }
   ],
   "source": [
    "center2[0]=(points[4][0]+points[5][0]+points[6][0]+points[7][0]+points[8][0]+points[9][0])/6\n",
    "center2[1]=(points[4][1]+points[5][1]+points[6][1]+points[7][1]+points[8][1]+points[9][1])/6\n",
    "center2"
   ]
  },
  {
   "cell_type": "code",
   "execution_count": 55,
   "metadata": {},
   "outputs": [
    {
     "name": "stdout",
     "output_type": "stream",
     "text": [
      "Cluster 1\n",
      "Cluster 1\n",
      "Cluster 1\n",
      "Cluster 1\n",
      "Cluster 2\n",
      "Cluster 2\n",
      "Cluster 2\n",
      "Cluster 2\n",
      "Cluster 2\n",
      "Cluster 2\n"
     ]
    }
   ],
   "source": [
    "manhattan(points, center1, center2)"
   ]
  },
  {
   "cell_type": "code",
   "execution_count": 56,
   "metadata": {},
   "outputs": [
    {
     "data": {
      "text/plain": [
       "[2.5, 5.0]"
      ]
     },
     "execution_count": 56,
     "metadata": {},
     "output_type": "execute_result"
    }
   ],
   "source": [
    "center1[0]=(points[0][0]+points[1][0]+points[2][0]+points[3][0])/4\n",
    "center1[1]=(points[0][1]+points[1][1]+points[2][1]+points[3][1])/4\n",
    "center1"
   ]
  },
  {
   "cell_type": "code",
   "execution_count": 57,
   "metadata": {},
   "outputs": [
    {
     "data": {
      "text/plain": [
       "[6.833333333333333, 4.0]"
      ]
     },
     "execution_count": 57,
     "metadata": {},
     "output_type": "execute_result"
    }
   ],
   "source": [
    "center2[0]=(points[4][0]+points[5][0]+points[6][0]+points[7][0]+points[8][0]+points[9][0])/6\n",
    "center2[1]=(points[4][1]+points[5][1]+points[6][1]+points[7][1]+points[8][1]+points[9][1])/6\n",
    "center2"
   ]
  },
  {
   "cell_type": "code",
   "execution_count": null,
   "metadata": {},
   "outputs": [],
   "source": [
    "##TASK2"
   ]
  },
  {
   "cell_type": "code",
   "execution_count": 183,
   "metadata": {},
   "outputs": [],
   "source": [
    "pd.set_option('display.max_rows', 160)"
   ]
  },
  {
   "cell_type": "code",
   "execution_count": 184,
   "metadata": {},
   "outputs": [],
   "source": [
    "class centroid(object):\n",
    "    def __init__(self, sep_length, sep_width, pet_length, pet_width, cluster):\n",
    "        self.sep_length = sep_length\n",
    "        self.sep_width = sep_width\n",
    "        self.pet_length = pet_length\n",
    "        self.pet_width = pet_width\n",
    "        self.cluster = cluster\n",
    "    \n",
    "    def change_attributes(self, new_sep_length, new_sep_width, new_pet_length, new_pet_width, new_cluster):\n",
    "        self.sep_length = new_sep_length\n",
    "        self.sep_width = new_sep_width\n",
    "        self.pet_length = new_pet_length\n",
    "        self.pet_width = new_pet_width\n",
    "        self.cluster = new_cluster"
   ]
  },
  {
   "cell_type": "code",
   "execution_count": 257,
   "metadata": {},
   "outputs": [],
   "source": [
    "def calc_euc_distance_initial(data, target_index, indices, distance_function):\n",
    "    distance_list = []\n",
    "    #m = 0\n",
    "    if distance_function == \"euclidean\":\n",
    "        for i in indices:\n",
    "             distance_list.append(math.sqrt((data.loc[target_index, \"sep_length\"] - data.loc[i, \"sep_length\"])**2 + (data.loc[target_index, \"sep_width\"] - data.loc[i, \"sep_width\"])**2 + (data.loc[target_index, \"pet_length\"] - data.loc[i, \"pet_length\"])**2 + (data.loc[target_index, \"pet_width\"] - data.loc[i, \"pet_width\"])**2))\n",
    "    \n",
    "    if distance_function == \"cosine\":\n",
    "        for i in indices:\n",
    "            numerator = data.loc[target_index, \"sep_length\"] * data.loc[i, \"sep_length\"] + data.loc[target_index, \"sep_width\"] * data.loc[i, \"sep_width\"] + data.loc[target_index, \"pet_length\"] * data.loc[i, \"pet_length\"] + data.loc[target_index, \"pet_width\"] * data.loc[i, \"pet_width\"]\n",
    "            denominator = math.sqrt(data.loc[target_index, \"sep_length\"]**2 + data.loc[target_index, \"sep_width\"]**2 + data.loc[target_index, \"pet_length\"]**2 + data.loc[target_index, \"pet_width\"]**2) * math.sqrt(data.loc[i, \"sep_length\"]**2 + data.loc[i, \"sep_width\"]**2 +data.loc[i, \"pet_length\"]**2 +data.loc[i, \"pet_width\"]**2)\n",
    "            distance_list.append(1-numerator/denominator)\n",
    "            \n",
    "    if distance_function == \"jaccard\":\n",
    "        for i in indices:\n",
    "            numerator = min(data.loc[target_index, \"sep_length\"], data.loc[i, \"sep_length\"]) + min(data.loc[target_index, \"sep_width\"], data.loc[i, \"sep_width\"]) + min(data.loc[target_index, \"pet_length\"], data.loc[i, \"pet_length\"]) + min(data.loc[target_index, \"pet_width\"], data.loc[i, \"pet_width\"])\n",
    "            denominator = max(data.loc[target_index, \"sep_length\"], data.loc[i, \"sep_length\"]) + min(data.loc[target_index, \"sep_width\"], data.loc[i, \"sep_width\"]) + min(data.loc[target_index, \"pet_length\"], data.loc[i, \"pet_length\"]) + min(data.loc[target_index, \"pet_width\"], data.loc[i, \"pet_width\"])\n",
    "            distance_list.append(1-numerator/denominator)\n",
    "    \n",
    "    \n",
    "    min_ele = 0\n",
    "    for j in range(len(distance_list)):\n",
    "        if distance_list[j] < distance_list[min_ele]:\n",
    "            min_ele = j\n",
    "    \n",
    "    #print(data.loc[indices[min_ele], \"cluster\"])\n",
    "    return data.loc[indices[min_ele], \"cluster\"]\n",
    "    #data.loc[target_index, \"cluster\"] = data.loc[indices[min_ele], \"cluster\"]\n",
    "    \n",
    "\n",
    "\n",
    "def calc_new_distance_assign_new_cluster(data, target_index, objects, distance_function):\n",
    "    distance_list = []\n",
    "    if distance_function == \"euclidean\":\n",
    "        for i in range(len(objects)):\n",
    "            distance_list.append(math.sqrt((data.loc[target_index, \"sep_length\"] - objects[i].sep_length)**2 + (data.loc[target_index, \"sep_width\"] - objects[i].sep_width)**2 + (data.loc[target_index, \"pet_length\"] - objects[i].pet_length)**2 + (data.loc[target_index, \"pet_width\"] - objects[i].pet_width)**2))\n",
    "    \n",
    "    if distance_function == \"cosine\":\n",
    "        for i in range(len(objects)):\n",
    "            numerator = data.loc[target_index, \"sep_length\"] * data.loc[i, \"sep_length\"] + data.loc[target_index, \"sep_width\"] * data.loc[i, \"sep_width\"] + data.loc[target_index, \"pet_length\"] * data.loc[i, \"pet_length\"] + data.loc[target_index, \"pet_width\"] * data.loc[i, \"pet_width\"]\n",
    "            denominator = math.sqrt(data.loc[target_index, \"sep_length\"]**2 + data.loc[target_index, \"sep_width\"]**2 + data.loc[target_index, \"pet_length\"]**2 + data.loc[target_index, \"pet_width\"]**2) * math.sqrt(data.loc[i, \"sep_length\"]**2 + data.loc[i, \"sep_width\"]**2 +data.loc[i, \"pet_length\"]**2 +data.loc[i, \"pet_width\"]**2)\n",
    "            distance_list.append(1-numerator/denominator)\n",
    "    \n",
    "            \n",
    "    if distance_function == \"jaccard\":\n",
    "        for i in range(len(objects)):\n",
    "            numerator = min(data.loc[target_index, \"sep_length\"], data.loc[i, \"sep_length\"]) + min(data.loc[target_index, \"sep_width\"], data.loc[i, \"sep_width\"]) + min(data.loc[target_index, \"pet_length\"], data.loc[i, \"pet_length\"]) + min(data.loc[target_index, \"pet_width\"], data.loc[i, \"pet_width\"])\n",
    "            denominator = max(data.loc[target_index, \"sep_length\"], data.loc[i, \"sep_length\"]) + min(data.loc[target_index, \"sep_width\"], data.loc[i, \"sep_width\"]) + min(data.loc[target_index, \"pet_length\"], data.loc[i, \"pet_length\"]) + min(data.loc[target_index, \"pet_width\"], data.loc[i, \"pet_width\"])\n",
    "            distance_list.append(1-numerator/denominator)\n",
    "    \n",
    "    \n",
    "    min_ele = 0\n",
    "    for j in range(len(distance_list)):\n",
    "        if distance_list[j] < distance_list[min_ele]:\n",
    "            min_ele = j\n",
    "    \n",
    "    if_changed = 0\n",
    "    if data.loc[target_index, \"cluster\"] != objects[min_ele].cluster:\n",
    "        #print(\"kir\")\n",
    "        data.loc[target_index, \"cluster\"] = objects[min_ele].cluster\n",
    "        #print(\"kir\")\n",
    "        if_changed = 1\n",
    "    \n",
    "    return data, if_changed\n",
    "\n",
    "\n",
    "def assign_new_clusters(data, objects, distance_function):\n",
    "    change_list = []\n",
    "    need_to_finish = False\n",
    "    \n",
    "    for i in data.index:\n",
    "        data, if_changed = calc_new_distance_assign_new_cluster(data, i, objects, distance_function)\n",
    "        change_list.append(if_changed)\n",
    "    \n",
    "    if all(elem == 0 for elem in change_list):\n",
    "        need_to_finish = True\n",
    "    \n",
    "    return data, need_to_finish"
   ]
  },
  {
   "cell_type": "code",
   "execution_count": null,
   "metadata": {},
   "outputs": [],
   "source": []
  },
  {
   "cell_type": "code",
   "execution_count": null,
   "metadata": {},
   "outputs": [],
   "source": []
  },
  {
   "cell_type": "code",
   "execution_count": null,
   "metadata": {},
   "outputs": [],
   "source": []
  },
  {
   "cell_type": "markdown",
   "metadata": {},
   "source": [
    "# initial assignment"
   ]
  },
  {
   "cell_type": "code",
   "execution_count": 307,
   "metadata": {},
   "outputs": [],
   "source": [
    "data = pd.read_csv(\"iris.data\", names = [\"sep_length\", \"sep_width\", \"pet_length\", \"pet_width\", \"class\"])\n",
    "data['cluster'] = 0"
   ]
  },
  {
   "cell_type": "code",
   "execution_count": 308,
   "metadata": {},
   "outputs": [],
   "source": [
    "def initial_cluster_assignment(data, k, distance_function):\n",
    "    initial_points = data.sample(k)\n",
    "    m = 0\n",
    "    for i in initial_points.index:\n",
    "        data.loc[i,\"cluster\"] = m+1\n",
    "        m = m + 1\n",
    "    \n",
    "    for i in data.index:\n",
    "        if data.loc[i,\"cluster\"] == 0:\n",
    "            cluster = calc_euc_distance_initial(data, i, initial_points.index, distance_function)\n",
    "            data.loc[i, \"cluster\"] = cluster"
   ]
  },
  {
   "cell_type": "code",
   "execution_count": 309,
   "metadata": {},
   "outputs": [],
   "source": [
    "k = 3"
   ]
  },
  {
   "cell_type": "code",
   "execution_count": 310,
   "metadata": {},
   "outputs": [],
   "source": [
    "initial_cluster_assignment(data, k, \"cosine\")"
   ]
  },
  {
   "cell_type": "code",
   "execution_count": 304,
   "metadata": {},
   "outputs": [
    {
     "data": {
      "text/html": [
       "<div>\n",
       "<style scoped>\n",
       "    .dataframe tbody tr th:only-of-type {\n",
       "        vertical-align: middle;\n",
       "    }\n",
       "\n",
       "    .dataframe tbody tr th {\n",
       "        vertical-align: top;\n",
       "    }\n",
       "\n",
       "    .dataframe thead th {\n",
       "        text-align: right;\n",
       "    }\n",
       "</style>\n",
       "<table border=\"1\" class=\"dataframe\">\n",
       "  <thead>\n",
       "    <tr style=\"text-align: right;\">\n",
       "      <th></th>\n",
       "      <th>sep_length</th>\n",
       "      <th>sep_width</th>\n",
       "      <th>pet_length</th>\n",
       "      <th>pet_width</th>\n",
       "      <th>class</th>\n",
       "      <th>cluster</th>\n",
       "    </tr>\n",
       "  </thead>\n",
       "  <tbody>\n",
       "    <tr>\n",
       "      <th>0</th>\n",
       "      <td>5.1</td>\n",
       "      <td>3.5</td>\n",
       "      <td>1.4</td>\n",
       "      <td>0.2</td>\n",
       "      <td>Iris-setosa</td>\n",
       "      <td>1</td>\n",
       "    </tr>\n",
       "    <tr>\n",
       "      <th>1</th>\n",
       "      <td>4.9</td>\n",
       "      <td>3.0</td>\n",
       "      <td>1.4</td>\n",
       "      <td>0.2</td>\n",
       "      <td>Iris-setosa</td>\n",
       "      <td>2</td>\n",
       "    </tr>\n",
       "    <tr>\n",
       "      <th>2</th>\n",
       "      <td>4.7</td>\n",
       "      <td>3.2</td>\n",
       "      <td>1.3</td>\n",
       "      <td>0.2</td>\n",
       "      <td>Iris-setosa</td>\n",
       "      <td>2</td>\n",
       "    </tr>\n",
       "    <tr>\n",
       "      <th>3</th>\n",
       "      <td>4.6</td>\n",
       "      <td>3.1</td>\n",
       "      <td>1.5</td>\n",
       "      <td>0.2</td>\n",
       "      <td>Iris-setosa</td>\n",
       "      <td>2</td>\n",
       "    </tr>\n",
       "    <tr>\n",
       "      <th>4</th>\n",
       "      <td>5.0</td>\n",
       "      <td>3.6</td>\n",
       "      <td>1.4</td>\n",
       "      <td>0.2</td>\n",
       "      <td>Iris-setosa</td>\n",
       "      <td>1</td>\n",
       "    </tr>\n",
       "    <tr>\n",
       "      <th>5</th>\n",
       "      <td>5.4</td>\n",
       "      <td>3.9</td>\n",
       "      <td>1.7</td>\n",
       "      <td>0.4</td>\n",
       "      <td>Iris-setosa</td>\n",
       "      <td>1</td>\n",
       "    </tr>\n",
       "    <tr>\n",
       "      <th>6</th>\n",
       "      <td>4.6</td>\n",
       "      <td>3.4</td>\n",
       "      <td>1.4</td>\n",
       "      <td>0.3</td>\n",
       "      <td>Iris-setosa</td>\n",
       "      <td>2</td>\n",
       "    </tr>\n",
       "    <tr>\n",
       "      <th>7</th>\n",
       "      <td>5.0</td>\n",
       "      <td>3.4</td>\n",
       "      <td>1.5</td>\n",
       "      <td>0.2</td>\n",
       "      <td>Iris-setosa</td>\n",
       "      <td>1</td>\n",
       "    </tr>\n",
       "    <tr>\n",
       "      <th>8</th>\n",
       "      <td>4.4</td>\n",
       "      <td>2.9</td>\n",
       "      <td>1.4</td>\n",
       "      <td>0.2</td>\n",
       "      <td>Iris-setosa</td>\n",
       "      <td>2</td>\n",
       "    </tr>\n",
       "    <tr>\n",
       "      <th>9</th>\n",
       "      <td>4.9</td>\n",
       "      <td>3.1</td>\n",
       "      <td>1.5</td>\n",
       "      <td>0.1</td>\n",
       "      <td>Iris-setosa</td>\n",
       "      <td>2</td>\n",
       "    </tr>\n",
       "    <tr>\n",
       "      <th>10</th>\n",
       "      <td>5.4</td>\n",
       "      <td>3.7</td>\n",
       "      <td>1.5</td>\n",
       "      <td>0.2</td>\n",
       "      <td>Iris-setosa</td>\n",
       "      <td>1</td>\n",
       "    </tr>\n",
       "    <tr>\n",
       "      <th>11</th>\n",
       "      <td>4.8</td>\n",
       "      <td>3.4</td>\n",
       "      <td>1.6</td>\n",
       "      <td>0.2</td>\n",
       "      <td>Iris-setosa</td>\n",
       "      <td>2</td>\n",
       "    </tr>\n",
       "    <tr>\n",
       "      <th>12</th>\n",
       "      <td>4.8</td>\n",
       "      <td>3.0</td>\n",
       "      <td>1.4</td>\n",
       "      <td>0.1</td>\n",
       "      <td>Iris-setosa</td>\n",
       "      <td>2</td>\n",
       "    </tr>\n",
       "    <tr>\n",
       "      <th>13</th>\n",
       "      <td>4.3</td>\n",
       "      <td>3.0</td>\n",
       "      <td>1.1</td>\n",
       "      <td>0.1</td>\n",
       "      <td>Iris-setosa</td>\n",
       "      <td>2</td>\n",
       "    </tr>\n",
       "    <tr>\n",
       "      <th>14</th>\n",
       "      <td>5.8</td>\n",
       "      <td>4.0</td>\n",
       "      <td>1.2</td>\n",
       "      <td>0.2</td>\n",
       "      <td>Iris-setosa</td>\n",
       "      <td>1</td>\n",
       "    </tr>\n",
       "    <tr>\n",
       "      <th>15</th>\n",
       "      <td>5.7</td>\n",
       "      <td>4.4</td>\n",
       "      <td>1.5</td>\n",
       "      <td>0.4</td>\n",
       "      <td>Iris-setosa</td>\n",
       "      <td>1</td>\n",
       "    </tr>\n",
       "    <tr>\n",
       "      <th>16</th>\n",
       "      <td>5.4</td>\n",
       "      <td>3.9</td>\n",
       "      <td>1.3</td>\n",
       "      <td>0.4</td>\n",
       "      <td>Iris-setosa</td>\n",
       "      <td>1</td>\n",
       "    </tr>\n",
       "    <tr>\n",
       "      <th>17</th>\n",
       "      <td>5.1</td>\n",
       "      <td>3.5</td>\n",
       "      <td>1.4</td>\n",
       "      <td>0.3</td>\n",
       "      <td>Iris-setosa</td>\n",
       "      <td>1</td>\n",
       "    </tr>\n",
       "    <tr>\n",
       "      <th>18</th>\n",
       "      <td>5.7</td>\n",
       "      <td>3.8</td>\n",
       "      <td>1.7</td>\n",
       "      <td>0.3</td>\n",
       "      <td>Iris-setosa</td>\n",
       "      <td>1</td>\n",
       "    </tr>\n",
       "    <tr>\n",
       "      <th>19</th>\n",
       "      <td>5.1</td>\n",
       "      <td>3.8</td>\n",
       "      <td>1.5</td>\n",
       "      <td>0.3</td>\n",
       "      <td>Iris-setosa</td>\n",
       "      <td>1</td>\n",
       "    </tr>\n",
       "    <tr>\n",
       "      <th>20</th>\n",
       "      <td>5.4</td>\n",
       "      <td>3.4</td>\n",
       "      <td>1.7</td>\n",
       "      <td>0.2</td>\n",
       "      <td>Iris-setosa</td>\n",
       "      <td>1</td>\n",
       "    </tr>\n",
       "    <tr>\n",
       "      <th>21</th>\n",
       "      <td>5.1</td>\n",
       "      <td>3.7</td>\n",
       "      <td>1.5</td>\n",
       "      <td>0.4</td>\n",
       "      <td>Iris-setosa</td>\n",
       "      <td>1</td>\n",
       "    </tr>\n",
       "    <tr>\n",
       "      <th>22</th>\n",
       "      <td>4.6</td>\n",
       "      <td>3.6</td>\n",
       "      <td>1.0</td>\n",
       "      <td>0.2</td>\n",
       "      <td>Iris-setosa</td>\n",
       "      <td>2</td>\n",
       "    </tr>\n",
       "    <tr>\n",
       "      <th>23</th>\n",
       "      <td>5.1</td>\n",
       "      <td>3.3</td>\n",
       "      <td>1.7</td>\n",
       "      <td>0.5</td>\n",
       "      <td>Iris-setosa</td>\n",
       "      <td>1</td>\n",
       "    </tr>\n",
       "    <tr>\n",
       "      <th>24</th>\n",
       "      <td>4.8</td>\n",
       "      <td>3.4</td>\n",
       "      <td>1.9</td>\n",
       "      <td>0.2</td>\n",
       "      <td>Iris-setosa</td>\n",
       "      <td>2</td>\n",
       "    </tr>\n",
       "    <tr>\n",
       "      <th>25</th>\n",
       "      <td>5.0</td>\n",
       "      <td>3.0</td>\n",
       "      <td>1.6</td>\n",
       "      <td>0.2</td>\n",
       "      <td>Iris-setosa</td>\n",
       "      <td>1</td>\n",
       "    </tr>\n",
       "    <tr>\n",
       "      <th>26</th>\n",
       "      <td>5.0</td>\n",
       "      <td>3.4</td>\n",
       "      <td>1.6</td>\n",
       "      <td>0.4</td>\n",
       "      <td>Iris-setosa</td>\n",
       "      <td>1</td>\n",
       "    </tr>\n",
       "    <tr>\n",
       "      <th>27</th>\n",
       "      <td>5.2</td>\n",
       "      <td>3.5</td>\n",
       "      <td>1.5</td>\n",
       "      <td>0.2</td>\n",
       "      <td>Iris-setosa</td>\n",
       "      <td>1</td>\n",
       "    </tr>\n",
       "    <tr>\n",
       "      <th>28</th>\n",
       "      <td>5.2</td>\n",
       "      <td>3.4</td>\n",
       "      <td>1.4</td>\n",
       "      <td>0.2</td>\n",
       "      <td>Iris-setosa</td>\n",
       "      <td>1</td>\n",
       "    </tr>\n",
       "    <tr>\n",
       "      <th>29</th>\n",
       "      <td>4.7</td>\n",
       "      <td>3.2</td>\n",
       "      <td>1.6</td>\n",
       "      <td>0.2</td>\n",
       "      <td>Iris-setosa</td>\n",
       "      <td>2</td>\n",
       "    </tr>\n",
       "    <tr>\n",
       "      <th>30</th>\n",
       "      <td>4.8</td>\n",
       "      <td>3.1</td>\n",
       "      <td>1.6</td>\n",
       "      <td>0.2</td>\n",
       "      <td>Iris-setosa</td>\n",
       "      <td>2</td>\n",
       "    </tr>\n",
       "    <tr>\n",
       "      <th>31</th>\n",
       "      <td>5.4</td>\n",
       "      <td>3.4</td>\n",
       "      <td>1.5</td>\n",
       "      <td>0.4</td>\n",
       "      <td>Iris-setosa</td>\n",
       "      <td>1</td>\n",
       "    </tr>\n",
       "    <tr>\n",
       "      <th>32</th>\n",
       "      <td>5.2</td>\n",
       "      <td>4.1</td>\n",
       "      <td>1.5</td>\n",
       "      <td>0.1</td>\n",
       "      <td>Iris-setosa</td>\n",
       "      <td>1</td>\n",
       "    </tr>\n",
       "    <tr>\n",
       "      <th>33</th>\n",
       "      <td>5.5</td>\n",
       "      <td>4.2</td>\n",
       "      <td>1.4</td>\n",
       "      <td>0.2</td>\n",
       "      <td>Iris-setosa</td>\n",
       "      <td>1</td>\n",
       "    </tr>\n",
       "    <tr>\n",
       "      <th>34</th>\n",
       "      <td>4.9</td>\n",
       "      <td>3.1</td>\n",
       "      <td>1.5</td>\n",
       "      <td>0.1</td>\n",
       "      <td>Iris-setosa</td>\n",
       "      <td>2</td>\n",
       "    </tr>\n",
       "    <tr>\n",
       "      <th>35</th>\n",
       "      <td>5.0</td>\n",
       "      <td>3.2</td>\n",
       "      <td>1.2</td>\n",
       "      <td>0.2</td>\n",
       "      <td>Iris-setosa</td>\n",
       "      <td>1</td>\n",
       "    </tr>\n",
       "    <tr>\n",
       "      <th>36</th>\n",
       "      <td>5.5</td>\n",
       "      <td>3.5</td>\n",
       "      <td>1.3</td>\n",
       "      <td>0.2</td>\n",
       "      <td>Iris-setosa</td>\n",
       "      <td>1</td>\n",
       "    </tr>\n",
       "    <tr>\n",
       "      <th>37</th>\n",
       "      <td>4.9</td>\n",
       "      <td>3.1</td>\n",
       "      <td>1.5</td>\n",
       "      <td>0.1</td>\n",
       "      <td>Iris-setosa</td>\n",
       "      <td>2</td>\n",
       "    </tr>\n",
       "    <tr>\n",
       "      <th>38</th>\n",
       "      <td>4.4</td>\n",
       "      <td>3.0</td>\n",
       "      <td>1.3</td>\n",
       "      <td>0.2</td>\n",
       "      <td>Iris-setosa</td>\n",
       "      <td>2</td>\n",
       "    </tr>\n",
       "    <tr>\n",
       "      <th>39</th>\n",
       "      <td>5.1</td>\n",
       "      <td>3.4</td>\n",
       "      <td>1.5</td>\n",
       "      <td>0.2</td>\n",
       "      <td>Iris-setosa</td>\n",
       "      <td>1</td>\n",
       "    </tr>\n",
       "    <tr>\n",
       "      <th>40</th>\n",
       "      <td>5.0</td>\n",
       "      <td>3.5</td>\n",
       "      <td>1.3</td>\n",
       "      <td>0.3</td>\n",
       "      <td>Iris-setosa</td>\n",
       "      <td>1</td>\n",
       "    </tr>\n",
       "    <tr>\n",
       "      <th>41</th>\n",
       "      <td>4.5</td>\n",
       "      <td>2.3</td>\n",
       "      <td>1.3</td>\n",
       "      <td>0.3</td>\n",
       "      <td>Iris-setosa</td>\n",
       "      <td>2</td>\n",
       "    </tr>\n",
       "    <tr>\n",
       "      <th>42</th>\n",
       "      <td>4.4</td>\n",
       "      <td>3.2</td>\n",
       "      <td>1.3</td>\n",
       "      <td>0.2</td>\n",
       "      <td>Iris-setosa</td>\n",
       "      <td>2</td>\n",
       "    </tr>\n",
       "    <tr>\n",
       "      <th>43</th>\n",
       "      <td>5.0</td>\n",
       "      <td>3.5</td>\n",
       "      <td>1.6</td>\n",
       "      <td>0.6</td>\n",
       "      <td>Iris-setosa</td>\n",
       "      <td>1</td>\n",
       "    </tr>\n",
       "    <tr>\n",
       "      <th>44</th>\n",
       "      <td>5.1</td>\n",
       "      <td>3.8</td>\n",
       "      <td>1.9</td>\n",
       "      <td>0.4</td>\n",
       "      <td>Iris-setosa</td>\n",
       "      <td>1</td>\n",
       "    </tr>\n",
       "    <tr>\n",
       "      <th>45</th>\n",
       "      <td>4.8</td>\n",
       "      <td>3.0</td>\n",
       "      <td>1.4</td>\n",
       "      <td>0.3</td>\n",
       "      <td>Iris-setosa</td>\n",
       "      <td>2</td>\n",
       "    </tr>\n",
       "    <tr>\n",
       "      <th>46</th>\n",
       "      <td>5.1</td>\n",
       "      <td>3.8</td>\n",
       "      <td>1.6</td>\n",
       "      <td>0.2</td>\n",
       "      <td>Iris-setosa</td>\n",
       "      <td>1</td>\n",
       "    </tr>\n",
       "    <tr>\n",
       "      <th>47</th>\n",
       "      <td>4.6</td>\n",
       "      <td>3.2</td>\n",
       "      <td>1.4</td>\n",
       "      <td>0.2</td>\n",
       "      <td>Iris-setosa</td>\n",
       "      <td>2</td>\n",
       "    </tr>\n",
       "    <tr>\n",
       "      <th>48</th>\n",
       "      <td>5.3</td>\n",
       "      <td>3.7</td>\n",
       "      <td>1.5</td>\n",
       "      <td>0.2</td>\n",
       "      <td>Iris-setosa</td>\n",
       "      <td>1</td>\n",
       "    </tr>\n",
       "    <tr>\n",
       "      <th>49</th>\n",
       "      <td>5.0</td>\n",
       "      <td>3.3</td>\n",
       "      <td>1.4</td>\n",
       "      <td>0.2</td>\n",
       "      <td>Iris-setosa</td>\n",
       "      <td>1</td>\n",
       "    </tr>\n",
       "    <tr>\n",
       "      <th>50</th>\n",
       "      <td>7.0</td>\n",
       "      <td>3.2</td>\n",
       "      <td>4.7</td>\n",
       "      <td>1.4</td>\n",
       "      <td>Iris-versicolor</td>\n",
       "      <td>3</td>\n",
       "    </tr>\n",
       "    <tr>\n",
       "      <th>51</th>\n",
       "      <td>6.4</td>\n",
       "      <td>3.2</td>\n",
       "      <td>4.5</td>\n",
       "      <td>1.5</td>\n",
       "      <td>Iris-versicolor</td>\n",
       "      <td>3</td>\n",
       "    </tr>\n",
       "    <tr>\n",
       "      <th>52</th>\n",
       "      <td>6.9</td>\n",
       "      <td>3.1</td>\n",
       "      <td>4.9</td>\n",
       "      <td>1.5</td>\n",
       "      <td>Iris-versicolor</td>\n",
       "      <td>3</td>\n",
       "    </tr>\n",
       "    <tr>\n",
       "      <th>53</th>\n",
       "      <td>5.5</td>\n",
       "      <td>2.3</td>\n",
       "      <td>4.0</td>\n",
       "      <td>1.3</td>\n",
       "      <td>Iris-versicolor</td>\n",
       "      <td>1</td>\n",
       "    </tr>\n",
       "    <tr>\n",
       "      <th>54</th>\n",
       "      <td>6.5</td>\n",
       "      <td>2.8</td>\n",
       "      <td>4.6</td>\n",
       "      <td>1.5</td>\n",
       "      <td>Iris-versicolor</td>\n",
       "      <td>3</td>\n",
       "    </tr>\n",
       "    <tr>\n",
       "      <th>55</th>\n",
       "      <td>5.7</td>\n",
       "      <td>2.8</td>\n",
       "      <td>4.5</td>\n",
       "      <td>1.3</td>\n",
       "      <td>Iris-versicolor</td>\n",
       "      <td>1</td>\n",
       "    </tr>\n",
       "    <tr>\n",
       "      <th>56</th>\n",
       "      <td>6.3</td>\n",
       "      <td>3.3</td>\n",
       "      <td>4.7</td>\n",
       "      <td>1.6</td>\n",
       "      <td>Iris-versicolor</td>\n",
       "      <td>3</td>\n",
       "    </tr>\n",
       "    <tr>\n",
       "      <th>57</th>\n",
       "      <td>4.9</td>\n",
       "      <td>2.4</td>\n",
       "      <td>3.3</td>\n",
       "      <td>1.0</td>\n",
       "      <td>Iris-versicolor</td>\n",
       "      <td>2</td>\n",
       "    </tr>\n",
       "    <tr>\n",
       "      <th>58</th>\n",
       "      <td>6.6</td>\n",
       "      <td>2.9</td>\n",
       "      <td>4.6</td>\n",
       "      <td>1.3</td>\n",
       "      <td>Iris-versicolor</td>\n",
       "      <td>3</td>\n",
       "    </tr>\n",
       "    <tr>\n",
       "      <th>59</th>\n",
       "      <td>5.2</td>\n",
       "      <td>2.7</td>\n",
       "      <td>3.9</td>\n",
       "      <td>1.4</td>\n",
       "      <td>Iris-versicolor</td>\n",
       "      <td>1</td>\n",
       "    </tr>\n",
       "    <tr>\n",
       "      <th>60</th>\n",
       "      <td>5.0</td>\n",
       "      <td>2.0</td>\n",
       "      <td>3.5</td>\n",
       "      <td>1.0</td>\n",
       "      <td>Iris-versicolor</td>\n",
       "      <td>1</td>\n",
       "    </tr>\n",
       "    <tr>\n",
       "      <th>61</th>\n",
       "      <td>5.9</td>\n",
       "      <td>3.0</td>\n",
       "      <td>4.2</td>\n",
       "      <td>1.5</td>\n",
       "      <td>Iris-versicolor</td>\n",
       "      <td>1</td>\n",
       "    </tr>\n",
       "    <tr>\n",
       "      <th>62</th>\n",
       "      <td>6.0</td>\n",
       "      <td>2.2</td>\n",
       "      <td>4.0</td>\n",
       "      <td>1.0</td>\n",
       "      <td>Iris-versicolor</td>\n",
       "      <td>1</td>\n",
       "    </tr>\n",
       "    <tr>\n",
       "      <th>63</th>\n",
       "      <td>6.1</td>\n",
       "      <td>2.9</td>\n",
       "      <td>4.7</td>\n",
       "      <td>1.4</td>\n",
       "      <td>Iris-versicolor</td>\n",
       "      <td>3</td>\n",
       "    </tr>\n",
       "    <tr>\n",
       "      <th>64</th>\n",
       "      <td>5.6</td>\n",
       "      <td>2.9</td>\n",
       "      <td>3.6</td>\n",
       "      <td>1.3</td>\n",
       "      <td>Iris-versicolor</td>\n",
       "      <td>1</td>\n",
       "    </tr>\n",
       "    <tr>\n",
       "      <th>65</th>\n",
       "      <td>6.7</td>\n",
       "      <td>3.1</td>\n",
       "      <td>4.4</td>\n",
       "      <td>1.4</td>\n",
       "      <td>Iris-versicolor</td>\n",
       "      <td>3</td>\n",
       "    </tr>\n",
       "    <tr>\n",
       "      <th>66</th>\n",
       "      <td>5.6</td>\n",
       "      <td>3.0</td>\n",
       "      <td>4.5</td>\n",
       "      <td>1.5</td>\n",
       "      <td>Iris-versicolor</td>\n",
       "      <td>1</td>\n",
       "    </tr>\n",
       "    <tr>\n",
       "      <th>67</th>\n",
       "      <td>5.8</td>\n",
       "      <td>2.7</td>\n",
       "      <td>4.1</td>\n",
       "      <td>1.0</td>\n",
       "      <td>Iris-versicolor</td>\n",
       "      <td>1</td>\n",
       "    </tr>\n",
       "    <tr>\n",
       "      <th>68</th>\n",
       "      <td>6.2</td>\n",
       "      <td>2.2</td>\n",
       "      <td>4.5</td>\n",
       "      <td>1.5</td>\n",
       "      <td>Iris-versicolor</td>\n",
       "      <td>3</td>\n",
       "    </tr>\n",
       "    <tr>\n",
       "      <th>69</th>\n",
       "      <td>5.6</td>\n",
       "      <td>2.5</td>\n",
       "      <td>3.9</td>\n",
       "      <td>1.1</td>\n",
       "      <td>Iris-versicolor</td>\n",
       "      <td>1</td>\n",
       "    </tr>\n",
       "    <tr>\n",
       "      <th>70</th>\n",
       "      <td>5.9</td>\n",
       "      <td>3.2</td>\n",
       "      <td>4.8</td>\n",
       "      <td>1.8</td>\n",
       "      <td>Iris-versicolor</td>\n",
       "      <td>1</td>\n",
       "    </tr>\n",
       "    <tr>\n",
       "      <th>71</th>\n",
       "      <td>6.1</td>\n",
       "      <td>2.8</td>\n",
       "      <td>4.0</td>\n",
       "      <td>1.3</td>\n",
       "      <td>Iris-versicolor</td>\n",
       "      <td>3</td>\n",
       "    </tr>\n",
       "    <tr>\n",
       "      <th>72</th>\n",
       "      <td>6.3</td>\n",
       "      <td>2.5</td>\n",
       "      <td>4.9</td>\n",
       "      <td>1.5</td>\n",
       "      <td>Iris-versicolor</td>\n",
       "      <td>3</td>\n",
       "    </tr>\n",
       "    <tr>\n",
       "      <th>73</th>\n",
       "      <td>6.1</td>\n",
       "      <td>2.8</td>\n",
       "      <td>4.7</td>\n",
       "      <td>1.2</td>\n",
       "      <td>Iris-versicolor</td>\n",
       "      <td>3</td>\n",
       "    </tr>\n",
       "    <tr>\n",
       "      <th>74</th>\n",
       "      <td>6.4</td>\n",
       "      <td>2.9</td>\n",
       "      <td>4.3</td>\n",
       "      <td>1.3</td>\n",
       "      <td>Iris-versicolor</td>\n",
       "      <td>3</td>\n",
       "    </tr>\n",
       "    <tr>\n",
       "      <th>75</th>\n",
       "      <td>6.6</td>\n",
       "      <td>3.0</td>\n",
       "      <td>4.4</td>\n",
       "      <td>1.4</td>\n",
       "      <td>Iris-versicolor</td>\n",
       "      <td>3</td>\n",
       "    </tr>\n",
       "    <tr>\n",
       "      <th>76</th>\n",
       "      <td>6.8</td>\n",
       "      <td>2.8</td>\n",
       "      <td>4.8</td>\n",
       "      <td>1.4</td>\n",
       "      <td>Iris-versicolor</td>\n",
       "      <td>3</td>\n",
       "    </tr>\n",
       "    <tr>\n",
       "      <th>77</th>\n",
       "      <td>6.7</td>\n",
       "      <td>3.0</td>\n",
       "      <td>5.0</td>\n",
       "      <td>1.7</td>\n",
       "      <td>Iris-versicolor</td>\n",
       "      <td>3</td>\n",
       "    </tr>\n",
       "    <tr>\n",
       "      <th>78</th>\n",
       "      <td>6.0</td>\n",
       "      <td>2.9</td>\n",
       "      <td>4.5</td>\n",
       "      <td>1.5</td>\n",
       "      <td>Iris-versicolor</td>\n",
       "      <td>1</td>\n",
       "    </tr>\n",
       "    <tr>\n",
       "      <th>79</th>\n",
       "      <td>5.7</td>\n",
       "      <td>2.6</td>\n",
       "      <td>3.5</td>\n",
       "      <td>1.0</td>\n",
       "      <td>Iris-versicolor</td>\n",
       "      <td>1</td>\n",
       "    </tr>\n",
       "    <tr>\n",
       "      <th>80</th>\n",
       "      <td>5.5</td>\n",
       "      <td>2.4</td>\n",
       "      <td>3.8</td>\n",
       "      <td>1.1</td>\n",
       "      <td>Iris-versicolor</td>\n",
       "      <td>1</td>\n",
       "    </tr>\n",
       "    <tr>\n",
       "      <th>81</th>\n",
       "      <td>5.5</td>\n",
       "      <td>2.4</td>\n",
       "      <td>3.7</td>\n",
       "      <td>1.0</td>\n",
       "      <td>Iris-versicolor</td>\n",
       "      <td>1</td>\n",
       "    </tr>\n",
       "    <tr>\n",
       "      <th>82</th>\n",
       "      <td>5.8</td>\n",
       "      <td>2.7</td>\n",
       "      <td>3.9</td>\n",
       "      <td>1.2</td>\n",
       "      <td>Iris-versicolor</td>\n",
       "      <td>1</td>\n",
       "    </tr>\n",
       "    <tr>\n",
       "      <th>83</th>\n",
       "      <td>6.0</td>\n",
       "      <td>2.7</td>\n",
       "      <td>5.1</td>\n",
       "      <td>1.6</td>\n",
       "      <td>Iris-versicolor</td>\n",
       "      <td>1</td>\n",
       "    </tr>\n",
       "    <tr>\n",
       "      <th>84</th>\n",
       "      <td>5.4</td>\n",
       "      <td>3.0</td>\n",
       "      <td>4.5</td>\n",
       "      <td>1.5</td>\n",
       "      <td>Iris-versicolor</td>\n",
       "      <td>1</td>\n",
       "    </tr>\n",
       "    <tr>\n",
       "      <th>85</th>\n",
       "      <td>6.0</td>\n",
       "      <td>3.4</td>\n",
       "      <td>4.5</td>\n",
       "      <td>1.6</td>\n",
       "      <td>Iris-versicolor</td>\n",
       "      <td>1</td>\n",
       "    </tr>\n",
       "    <tr>\n",
       "      <th>86</th>\n",
       "      <td>6.7</td>\n",
       "      <td>3.1</td>\n",
       "      <td>4.7</td>\n",
       "      <td>1.5</td>\n",
       "      <td>Iris-versicolor</td>\n",
       "      <td>3</td>\n",
       "    </tr>\n",
       "    <tr>\n",
       "      <th>87</th>\n",
       "      <td>6.3</td>\n",
       "      <td>2.3</td>\n",
       "      <td>4.4</td>\n",
       "      <td>1.3</td>\n",
       "      <td>Iris-versicolor</td>\n",
       "      <td>3</td>\n",
       "    </tr>\n",
       "    <tr>\n",
       "      <th>88</th>\n",
       "      <td>5.6</td>\n",
       "      <td>3.0</td>\n",
       "      <td>4.1</td>\n",
       "      <td>1.3</td>\n",
       "      <td>Iris-versicolor</td>\n",
       "      <td>1</td>\n",
       "    </tr>\n",
       "    <tr>\n",
       "      <th>89</th>\n",
       "      <td>5.5</td>\n",
       "      <td>2.5</td>\n",
       "      <td>4.0</td>\n",
       "      <td>1.3</td>\n",
       "      <td>Iris-versicolor</td>\n",
       "      <td>1</td>\n",
       "    </tr>\n",
       "    <tr>\n",
       "      <th>90</th>\n",
       "      <td>5.5</td>\n",
       "      <td>2.6</td>\n",
       "      <td>4.4</td>\n",
       "      <td>1.2</td>\n",
       "      <td>Iris-versicolor</td>\n",
       "      <td>1</td>\n",
       "    </tr>\n",
       "    <tr>\n",
       "      <th>91</th>\n",
       "      <td>6.1</td>\n",
       "      <td>3.0</td>\n",
       "      <td>4.6</td>\n",
       "      <td>1.4</td>\n",
       "      <td>Iris-versicolor</td>\n",
       "      <td>3</td>\n",
       "    </tr>\n",
       "    <tr>\n",
       "      <th>92</th>\n",
       "      <td>5.8</td>\n",
       "      <td>2.6</td>\n",
       "      <td>4.0</td>\n",
       "      <td>1.2</td>\n",
       "      <td>Iris-versicolor</td>\n",
       "      <td>1</td>\n",
       "    </tr>\n",
       "    <tr>\n",
       "      <th>93</th>\n",
       "      <td>5.0</td>\n",
       "      <td>2.3</td>\n",
       "      <td>3.3</td>\n",
       "      <td>1.0</td>\n",
       "      <td>Iris-versicolor</td>\n",
       "      <td>1</td>\n",
       "    </tr>\n",
       "    <tr>\n",
       "      <th>94</th>\n",
       "      <td>5.6</td>\n",
       "      <td>2.7</td>\n",
       "      <td>4.2</td>\n",
       "      <td>1.3</td>\n",
       "      <td>Iris-versicolor</td>\n",
       "      <td>1</td>\n",
       "    </tr>\n",
       "    <tr>\n",
       "      <th>95</th>\n",
       "      <td>5.7</td>\n",
       "      <td>3.0</td>\n",
       "      <td>4.2</td>\n",
       "      <td>1.2</td>\n",
       "      <td>Iris-versicolor</td>\n",
       "      <td>1</td>\n",
       "    </tr>\n",
       "    <tr>\n",
       "      <th>96</th>\n",
       "      <td>5.7</td>\n",
       "      <td>2.9</td>\n",
       "      <td>4.2</td>\n",
       "      <td>1.3</td>\n",
       "      <td>Iris-versicolor</td>\n",
       "      <td>1</td>\n",
       "    </tr>\n",
       "    <tr>\n",
       "      <th>97</th>\n",
       "      <td>6.2</td>\n",
       "      <td>2.9</td>\n",
       "      <td>4.3</td>\n",
       "      <td>1.3</td>\n",
       "      <td>Iris-versicolor</td>\n",
       "      <td>3</td>\n",
       "    </tr>\n",
       "    <tr>\n",
       "      <th>98</th>\n",
       "      <td>5.1</td>\n",
       "      <td>2.5</td>\n",
       "      <td>3.0</td>\n",
       "      <td>1.1</td>\n",
       "      <td>Iris-versicolor</td>\n",
       "      <td>1</td>\n",
       "    </tr>\n",
       "    <tr>\n",
       "      <th>99</th>\n",
       "      <td>5.7</td>\n",
       "      <td>2.8</td>\n",
       "      <td>4.1</td>\n",
       "      <td>1.3</td>\n",
       "      <td>Iris-versicolor</td>\n",
       "      <td>1</td>\n",
       "    </tr>\n",
       "    <tr>\n",
       "      <th>100</th>\n",
       "      <td>6.3</td>\n",
       "      <td>3.3</td>\n",
       "      <td>6.0</td>\n",
       "      <td>2.5</td>\n",
       "      <td>Iris-virginica</td>\n",
       "      <td>3</td>\n",
       "    </tr>\n",
       "    <tr>\n",
       "      <th>101</th>\n",
       "      <td>5.8</td>\n",
       "      <td>2.7</td>\n",
       "      <td>5.1</td>\n",
       "      <td>1.9</td>\n",
       "      <td>Iris-virginica</td>\n",
       "      <td>1</td>\n",
       "    </tr>\n",
       "    <tr>\n",
       "      <th>102</th>\n",
       "      <td>7.1</td>\n",
       "      <td>3.0</td>\n",
       "      <td>5.9</td>\n",
       "      <td>2.1</td>\n",
       "      <td>Iris-virginica</td>\n",
       "      <td>3</td>\n",
       "    </tr>\n",
       "    <tr>\n",
       "      <th>103</th>\n",
       "      <td>6.3</td>\n",
       "      <td>2.9</td>\n",
       "      <td>5.6</td>\n",
       "      <td>1.8</td>\n",
       "      <td>Iris-virginica</td>\n",
       "      <td>3</td>\n",
       "    </tr>\n",
       "    <tr>\n",
       "      <th>104</th>\n",
       "      <td>6.5</td>\n",
       "      <td>3.0</td>\n",
       "      <td>5.8</td>\n",
       "      <td>2.2</td>\n",
       "      <td>Iris-virginica</td>\n",
       "      <td>3</td>\n",
       "    </tr>\n",
       "    <tr>\n",
       "      <th>105</th>\n",
       "      <td>7.6</td>\n",
       "      <td>3.0</td>\n",
       "      <td>6.6</td>\n",
       "      <td>2.1</td>\n",
       "      <td>Iris-virginica</td>\n",
       "      <td>3</td>\n",
       "    </tr>\n",
       "    <tr>\n",
       "      <th>106</th>\n",
       "      <td>4.9</td>\n",
       "      <td>2.5</td>\n",
       "      <td>4.5</td>\n",
       "      <td>1.7</td>\n",
       "      <td>Iris-virginica</td>\n",
       "      <td>2</td>\n",
       "    </tr>\n",
       "    <tr>\n",
       "      <th>107</th>\n",
       "      <td>7.3</td>\n",
       "      <td>2.9</td>\n",
       "      <td>6.3</td>\n",
       "      <td>1.8</td>\n",
       "      <td>Iris-virginica</td>\n",
       "      <td>3</td>\n",
       "    </tr>\n",
       "    <tr>\n",
       "      <th>108</th>\n",
       "      <td>6.7</td>\n",
       "      <td>2.5</td>\n",
       "      <td>5.8</td>\n",
       "      <td>1.8</td>\n",
       "      <td>Iris-virginica</td>\n",
       "      <td>3</td>\n",
       "    </tr>\n",
       "    <tr>\n",
       "      <th>109</th>\n",
       "      <td>7.2</td>\n",
       "      <td>3.6</td>\n",
       "      <td>6.1</td>\n",
       "      <td>2.5</td>\n",
       "      <td>Iris-virginica</td>\n",
       "      <td>3</td>\n",
       "    </tr>\n",
       "    <tr>\n",
       "      <th>110</th>\n",
       "      <td>6.5</td>\n",
       "      <td>3.2</td>\n",
       "      <td>5.1</td>\n",
       "      <td>2.0</td>\n",
       "      <td>Iris-virginica</td>\n",
       "      <td>3</td>\n",
       "    </tr>\n",
       "    <tr>\n",
       "      <th>111</th>\n",
       "      <td>6.4</td>\n",
       "      <td>2.7</td>\n",
       "      <td>5.3</td>\n",
       "      <td>1.9</td>\n",
       "      <td>Iris-virginica</td>\n",
       "      <td>3</td>\n",
       "    </tr>\n",
       "    <tr>\n",
       "      <th>112</th>\n",
       "      <td>6.8</td>\n",
       "      <td>3.0</td>\n",
       "      <td>5.5</td>\n",
       "      <td>2.1</td>\n",
       "      <td>Iris-virginica</td>\n",
       "      <td>3</td>\n",
       "    </tr>\n",
       "    <tr>\n",
       "      <th>113</th>\n",
       "      <td>5.7</td>\n",
       "      <td>2.5</td>\n",
       "      <td>5.0</td>\n",
       "      <td>2.0</td>\n",
       "      <td>Iris-virginica</td>\n",
       "      <td>1</td>\n",
       "    </tr>\n",
       "    <tr>\n",
       "      <th>114</th>\n",
       "      <td>5.8</td>\n",
       "      <td>2.8</td>\n",
       "      <td>5.1</td>\n",
       "      <td>2.4</td>\n",
       "      <td>Iris-virginica</td>\n",
       "      <td>1</td>\n",
       "    </tr>\n",
       "    <tr>\n",
       "      <th>115</th>\n",
       "      <td>6.4</td>\n",
       "      <td>3.2</td>\n",
       "      <td>5.3</td>\n",
       "      <td>2.3</td>\n",
       "      <td>Iris-virginica</td>\n",
       "      <td>3</td>\n",
       "    </tr>\n",
       "    <tr>\n",
       "      <th>116</th>\n",
       "      <td>6.5</td>\n",
       "      <td>3.0</td>\n",
       "      <td>5.5</td>\n",
       "      <td>1.8</td>\n",
       "      <td>Iris-virginica</td>\n",
       "      <td>3</td>\n",
       "    </tr>\n",
       "    <tr>\n",
       "      <th>117</th>\n",
       "      <td>7.7</td>\n",
       "      <td>3.8</td>\n",
       "      <td>6.7</td>\n",
       "      <td>2.2</td>\n",
       "      <td>Iris-virginica</td>\n",
       "      <td>3</td>\n",
       "    </tr>\n",
       "    <tr>\n",
       "      <th>118</th>\n",
       "      <td>7.7</td>\n",
       "      <td>2.6</td>\n",
       "      <td>6.9</td>\n",
       "      <td>2.3</td>\n",
       "      <td>Iris-virginica</td>\n",
       "      <td>3</td>\n",
       "    </tr>\n",
       "    <tr>\n",
       "      <th>119</th>\n",
       "      <td>6.0</td>\n",
       "      <td>2.2</td>\n",
       "      <td>5.0</td>\n",
       "      <td>1.5</td>\n",
       "      <td>Iris-virginica</td>\n",
       "      <td>1</td>\n",
       "    </tr>\n",
       "    <tr>\n",
       "      <th>120</th>\n",
       "      <td>6.9</td>\n",
       "      <td>3.2</td>\n",
       "      <td>5.7</td>\n",
       "      <td>2.3</td>\n",
       "      <td>Iris-virginica</td>\n",
       "      <td>3</td>\n",
       "    </tr>\n",
       "    <tr>\n",
       "      <th>121</th>\n",
       "      <td>5.6</td>\n",
       "      <td>2.8</td>\n",
       "      <td>4.9</td>\n",
       "      <td>2.0</td>\n",
       "      <td>Iris-virginica</td>\n",
       "      <td>1</td>\n",
       "    </tr>\n",
       "    <tr>\n",
       "      <th>122</th>\n",
       "      <td>7.7</td>\n",
       "      <td>2.8</td>\n",
       "      <td>6.7</td>\n",
       "      <td>2.0</td>\n",
       "      <td>Iris-virginica</td>\n",
       "      <td>3</td>\n",
       "    </tr>\n",
       "    <tr>\n",
       "      <th>123</th>\n",
       "      <td>6.3</td>\n",
       "      <td>2.7</td>\n",
       "      <td>4.9</td>\n",
       "      <td>1.8</td>\n",
       "      <td>Iris-virginica</td>\n",
       "      <td>3</td>\n",
       "    </tr>\n",
       "    <tr>\n",
       "      <th>124</th>\n",
       "      <td>6.7</td>\n",
       "      <td>3.3</td>\n",
       "      <td>5.7</td>\n",
       "      <td>2.1</td>\n",
       "      <td>Iris-virginica</td>\n",
       "      <td>3</td>\n",
       "    </tr>\n",
       "    <tr>\n",
       "      <th>125</th>\n",
       "      <td>7.2</td>\n",
       "      <td>3.2</td>\n",
       "      <td>6.0</td>\n",
       "      <td>1.8</td>\n",
       "      <td>Iris-virginica</td>\n",
       "      <td>3</td>\n",
       "    </tr>\n",
       "    <tr>\n",
       "      <th>126</th>\n",
       "      <td>6.2</td>\n",
       "      <td>2.8</td>\n",
       "      <td>4.8</td>\n",
       "      <td>1.8</td>\n",
       "      <td>Iris-virginica</td>\n",
       "      <td>3</td>\n",
       "    </tr>\n",
       "    <tr>\n",
       "      <th>127</th>\n",
       "      <td>6.1</td>\n",
       "      <td>3.0</td>\n",
       "      <td>4.9</td>\n",
       "      <td>1.8</td>\n",
       "      <td>Iris-virginica</td>\n",
       "      <td>3</td>\n",
       "    </tr>\n",
       "    <tr>\n",
       "      <th>128</th>\n",
       "      <td>6.4</td>\n",
       "      <td>2.8</td>\n",
       "      <td>5.6</td>\n",
       "      <td>2.1</td>\n",
       "      <td>Iris-virginica</td>\n",
       "      <td>3</td>\n",
       "    </tr>\n",
       "    <tr>\n",
       "      <th>129</th>\n",
       "      <td>7.2</td>\n",
       "      <td>3.0</td>\n",
       "      <td>5.8</td>\n",
       "      <td>1.6</td>\n",
       "      <td>Iris-virginica</td>\n",
       "      <td>3</td>\n",
       "    </tr>\n",
       "    <tr>\n",
       "      <th>130</th>\n",
       "      <td>7.4</td>\n",
       "      <td>2.8</td>\n",
       "      <td>6.1</td>\n",
       "      <td>1.9</td>\n",
       "      <td>Iris-virginica</td>\n",
       "      <td>3</td>\n",
       "    </tr>\n",
       "    <tr>\n",
       "      <th>131</th>\n",
       "      <td>7.9</td>\n",
       "      <td>3.8</td>\n",
       "      <td>6.4</td>\n",
       "      <td>2.0</td>\n",
       "      <td>Iris-virginica</td>\n",
       "      <td>3</td>\n",
       "    </tr>\n",
       "    <tr>\n",
       "      <th>132</th>\n",
       "      <td>6.4</td>\n",
       "      <td>2.8</td>\n",
       "      <td>5.6</td>\n",
       "      <td>2.2</td>\n",
       "      <td>Iris-virginica</td>\n",
       "      <td>3</td>\n",
       "    </tr>\n",
       "    <tr>\n",
       "      <th>133</th>\n",
       "      <td>6.3</td>\n",
       "      <td>2.8</td>\n",
       "      <td>5.1</td>\n",
       "      <td>1.5</td>\n",
       "      <td>Iris-virginica</td>\n",
       "      <td>3</td>\n",
       "    </tr>\n",
       "    <tr>\n",
       "      <th>134</th>\n",
       "      <td>6.1</td>\n",
       "      <td>2.6</td>\n",
       "      <td>5.6</td>\n",
       "      <td>1.4</td>\n",
       "      <td>Iris-virginica</td>\n",
       "      <td>3</td>\n",
       "    </tr>\n",
       "    <tr>\n",
       "      <th>135</th>\n",
       "      <td>7.7</td>\n",
       "      <td>3.0</td>\n",
       "      <td>6.1</td>\n",
       "      <td>2.3</td>\n",
       "      <td>Iris-virginica</td>\n",
       "      <td>3</td>\n",
       "    </tr>\n",
       "    <tr>\n",
       "      <th>136</th>\n",
       "      <td>6.3</td>\n",
       "      <td>3.4</td>\n",
       "      <td>5.6</td>\n",
       "      <td>2.4</td>\n",
       "      <td>Iris-virginica</td>\n",
       "      <td>3</td>\n",
       "    </tr>\n",
       "    <tr>\n",
       "      <th>137</th>\n",
       "      <td>6.4</td>\n",
       "      <td>3.1</td>\n",
       "      <td>5.5</td>\n",
       "      <td>1.8</td>\n",
       "      <td>Iris-virginica</td>\n",
       "      <td>3</td>\n",
       "    </tr>\n",
       "    <tr>\n",
       "      <th>138</th>\n",
       "      <td>6.0</td>\n",
       "      <td>3.0</td>\n",
       "      <td>4.8</td>\n",
       "      <td>1.8</td>\n",
       "      <td>Iris-virginica</td>\n",
       "      <td>1</td>\n",
       "    </tr>\n",
       "    <tr>\n",
       "      <th>139</th>\n",
       "      <td>6.9</td>\n",
       "      <td>3.1</td>\n",
       "      <td>5.4</td>\n",
       "      <td>2.1</td>\n",
       "      <td>Iris-virginica</td>\n",
       "      <td>3</td>\n",
       "    </tr>\n",
       "    <tr>\n",
       "      <th>140</th>\n",
       "      <td>6.7</td>\n",
       "      <td>3.1</td>\n",
       "      <td>5.6</td>\n",
       "      <td>2.4</td>\n",
       "      <td>Iris-virginica</td>\n",
       "      <td>3</td>\n",
       "    </tr>\n",
       "    <tr>\n",
       "      <th>141</th>\n",
       "      <td>6.9</td>\n",
       "      <td>3.1</td>\n",
       "      <td>5.1</td>\n",
       "      <td>2.3</td>\n",
       "      <td>Iris-virginica</td>\n",
       "      <td>3</td>\n",
       "    </tr>\n",
       "    <tr>\n",
       "      <th>142</th>\n",
       "      <td>5.8</td>\n",
       "      <td>2.7</td>\n",
       "      <td>5.1</td>\n",
       "      <td>1.9</td>\n",
       "      <td>Iris-virginica</td>\n",
       "      <td>1</td>\n",
       "    </tr>\n",
       "    <tr>\n",
       "      <th>143</th>\n",
       "      <td>6.8</td>\n",
       "      <td>3.2</td>\n",
       "      <td>5.9</td>\n",
       "      <td>2.3</td>\n",
       "      <td>Iris-virginica</td>\n",
       "      <td>3</td>\n",
       "    </tr>\n",
       "    <tr>\n",
       "      <th>144</th>\n",
       "      <td>6.7</td>\n",
       "      <td>3.3</td>\n",
       "      <td>5.7</td>\n",
       "      <td>2.5</td>\n",
       "      <td>Iris-virginica</td>\n",
       "      <td>3</td>\n",
       "    </tr>\n",
       "    <tr>\n",
       "      <th>145</th>\n",
       "      <td>6.7</td>\n",
       "      <td>3.0</td>\n",
       "      <td>5.2</td>\n",
       "      <td>2.3</td>\n",
       "      <td>Iris-virginica</td>\n",
       "      <td>3</td>\n",
       "    </tr>\n",
       "    <tr>\n",
       "      <th>146</th>\n",
       "      <td>6.3</td>\n",
       "      <td>2.5</td>\n",
       "      <td>5.0</td>\n",
       "      <td>1.9</td>\n",
       "      <td>Iris-virginica</td>\n",
       "      <td>3</td>\n",
       "    </tr>\n",
       "    <tr>\n",
       "      <th>147</th>\n",
       "      <td>6.5</td>\n",
       "      <td>3.0</td>\n",
       "      <td>5.2</td>\n",
       "      <td>2.0</td>\n",
       "      <td>Iris-virginica</td>\n",
       "      <td>3</td>\n",
       "    </tr>\n",
       "    <tr>\n",
       "      <th>148</th>\n",
       "      <td>6.2</td>\n",
       "      <td>3.4</td>\n",
       "      <td>5.4</td>\n",
       "      <td>2.3</td>\n",
       "      <td>Iris-virginica</td>\n",
       "      <td>3</td>\n",
       "    </tr>\n",
       "    <tr>\n",
       "      <th>149</th>\n",
       "      <td>5.9</td>\n",
       "      <td>3.0</td>\n",
       "      <td>5.1</td>\n",
       "      <td>1.8</td>\n",
       "      <td>Iris-virginica</td>\n",
       "      <td>1</td>\n",
       "    </tr>\n",
       "  </tbody>\n",
       "</table>\n",
       "</div>"
      ],
      "text/plain": [
       "     sep_length  sep_width  pet_length  pet_width            class  cluster\n",
       "0           5.1        3.5         1.4        0.2      Iris-setosa        1\n",
       "1           4.9        3.0         1.4        0.2      Iris-setosa        2\n",
       "2           4.7        3.2         1.3        0.2      Iris-setosa        2\n",
       "3           4.6        3.1         1.5        0.2      Iris-setosa        2\n",
       "4           5.0        3.6         1.4        0.2      Iris-setosa        1\n",
       "5           5.4        3.9         1.7        0.4      Iris-setosa        1\n",
       "6           4.6        3.4         1.4        0.3      Iris-setosa        2\n",
       "7           5.0        3.4         1.5        0.2      Iris-setosa        1\n",
       "8           4.4        2.9         1.4        0.2      Iris-setosa        2\n",
       "9           4.9        3.1         1.5        0.1      Iris-setosa        2\n",
       "10          5.4        3.7         1.5        0.2      Iris-setosa        1\n",
       "11          4.8        3.4         1.6        0.2      Iris-setosa        2\n",
       "12          4.8        3.0         1.4        0.1      Iris-setosa        2\n",
       "13          4.3        3.0         1.1        0.1      Iris-setosa        2\n",
       "14          5.8        4.0         1.2        0.2      Iris-setosa        1\n",
       "15          5.7        4.4         1.5        0.4      Iris-setosa        1\n",
       "16          5.4        3.9         1.3        0.4      Iris-setosa        1\n",
       "17          5.1        3.5         1.4        0.3      Iris-setosa        1\n",
       "18          5.7        3.8         1.7        0.3      Iris-setosa        1\n",
       "19          5.1        3.8         1.5        0.3      Iris-setosa        1\n",
       "20          5.4        3.4         1.7        0.2      Iris-setosa        1\n",
       "21          5.1        3.7         1.5        0.4      Iris-setosa        1\n",
       "22          4.6        3.6         1.0        0.2      Iris-setosa        2\n",
       "23          5.1        3.3         1.7        0.5      Iris-setosa        1\n",
       "24          4.8        3.4         1.9        0.2      Iris-setosa        2\n",
       "25          5.0        3.0         1.6        0.2      Iris-setosa        1\n",
       "26          5.0        3.4         1.6        0.4      Iris-setosa        1\n",
       "27          5.2        3.5         1.5        0.2      Iris-setosa        1\n",
       "28          5.2        3.4         1.4        0.2      Iris-setosa        1\n",
       "29          4.7        3.2         1.6        0.2      Iris-setosa        2\n",
       "30          4.8        3.1         1.6        0.2      Iris-setosa        2\n",
       "31          5.4        3.4         1.5        0.4      Iris-setosa        1\n",
       "32          5.2        4.1         1.5        0.1      Iris-setosa        1\n",
       "33          5.5        4.2         1.4        0.2      Iris-setosa        1\n",
       "34          4.9        3.1         1.5        0.1      Iris-setosa        2\n",
       "35          5.0        3.2         1.2        0.2      Iris-setosa        1\n",
       "36          5.5        3.5         1.3        0.2      Iris-setosa        1\n",
       "37          4.9        3.1         1.5        0.1      Iris-setosa        2\n",
       "38          4.4        3.0         1.3        0.2      Iris-setosa        2\n",
       "39          5.1        3.4         1.5        0.2      Iris-setosa        1\n",
       "40          5.0        3.5         1.3        0.3      Iris-setosa        1\n",
       "41          4.5        2.3         1.3        0.3      Iris-setosa        2\n",
       "42          4.4        3.2         1.3        0.2      Iris-setosa        2\n",
       "43          5.0        3.5         1.6        0.6      Iris-setosa        1\n",
       "44          5.1        3.8         1.9        0.4      Iris-setosa        1\n",
       "45          4.8        3.0         1.4        0.3      Iris-setosa        2\n",
       "46          5.1        3.8         1.6        0.2      Iris-setosa        1\n",
       "47          4.6        3.2         1.4        0.2      Iris-setosa        2\n",
       "48          5.3        3.7         1.5        0.2      Iris-setosa        1\n",
       "49          5.0        3.3         1.4        0.2      Iris-setosa        1\n",
       "50          7.0        3.2         4.7        1.4  Iris-versicolor        3\n",
       "51          6.4        3.2         4.5        1.5  Iris-versicolor        3\n",
       "52          6.9        3.1         4.9        1.5  Iris-versicolor        3\n",
       "53          5.5        2.3         4.0        1.3  Iris-versicolor        1\n",
       "54          6.5        2.8         4.6        1.5  Iris-versicolor        3\n",
       "55          5.7        2.8         4.5        1.3  Iris-versicolor        1\n",
       "56          6.3        3.3         4.7        1.6  Iris-versicolor        3\n",
       "57          4.9        2.4         3.3        1.0  Iris-versicolor        2\n",
       "58          6.6        2.9         4.6        1.3  Iris-versicolor        3\n",
       "59          5.2        2.7         3.9        1.4  Iris-versicolor        1\n",
       "60          5.0        2.0         3.5        1.0  Iris-versicolor        1\n",
       "61          5.9        3.0         4.2        1.5  Iris-versicolor        1\n",
       "62          6.0        2.2         4.0        1.0  Iris-versicolor        1\n",
       "63          6.1        2.9         4.7        1.4  Iris-versicolor        3\n",
       "64          5.6        2.9         3.6        1.3  Iris-versicolor        1\n",
       "65          6.7        3.1         4.4        1.4  Iris-versicolor        3\n",
       "66          5.6        3.0         4.5        1.5  Iris-versicolor        1\n",
       "67          5.8        2.7         4.1        1.0  Iris-versicolor        1\n",
       "68          6.2        2.2         4.5        1.5  Iris-versicolor        3\n",
       "69          5.6        2.5         3.9        1.1  Iris-versicolor        1\n",
       "70          5.9        3.2         4.8        1.8  Iris-versicolor        1\n",
       "71          6.1        2.8         4.0        1.3  Iris-versicolor        3\n",
       "72          6.3        2.5         4.9        1.5  Iris-versicolor        3\n",
       "73          6.1        2.8         4.7        1.2  Iris-versicolor        3\n",
       "74          6.4        2.9         4.3        1.3  Iris-versicolor        3\n",
       "75          6.6        3.0         4.4        1.4  Iris-versicolor        3\n",
       "76          6.8        2.8         4.8        1.4  Iris-versicolor        3\n",
       "77          6.7        3.0         5.0        1.7  Iris-versicolor        3\n",
       "78          6.0        2.9         4.5        1.5  Iris-versicolor        1\n",
       "79          5.7        2.6         3.5        1.0  Iris-versicolor        1\n",
       "80          5.5        2.4         3.8        1.1  Iris-versicolor        1\n",
       "81          5.5        2.4         3.7        1.0  Iris-versicolor        1\n",
       "82          5.8        2.7         3.9        1.2  Iris-versicolor        1\n",
       "83          6.0        2.7         5.1        1.6  Iris-versicolor        1\n",
       "84          5.4        3.0         4.5        1.5  Iris-versicolor        1\n",
       "85          6.0        3.4         4.5        1.6  Iris-versicolor        1\n",
       "86          6.7        3.1         4.7        1.5  Iris-versicolor        3\n",
       "87          6.3        2.3         4.4        1.3  Iris-versicolor        3\n",
       "88          5.6        3.0         4.1        1.3  Iris-versicolor        1\n",
       "89          5.5        2.5         4.0        1.3  Iris-versicolor        1\n",
       "90          5.5        2.6         4.4        1.2  Iris-versicolor        1\n",
       "91          6.1        3.0         4.6        1.4  Iris-versicolor        3\n",
       "92          5.8        2.6         4.0        1.2  Iris-versicolor        1\n",
       "93          5.0        2.3         3.3        1.0  Iris-versicolor        1\n",
       "94          5.6        2.7         4.2        1.3  Iris-versicolor        1\n",
       "95          5.7        3.0         4.2        1.2  Iris-versicolor        1\n",
       "96          5.7        2.9         4.2        1.3  Iris-versicolor        1\n",
       "97          6.2        2.9         4.3        1.3  Iris-versicolor        3\n",
       "98          5.1        2.5         3.0        1.1  Iris-versicolor        1\n",
       "99          5.7        2.8         4.1        1.3  Iris-versicolor        1\n",
       "100         6.3        3.3         6.0        2.5   Iris-virginica        3\n",
       "101         5.8        2.7         5.1        1.9   Iris-virginica        1\n",
       "102         7.1        3.0         5.9        2.1   Iris-virginica        3\n",
       "103         6.3        2.9         5.6        1.8   Iris-virginica        3\n",
       "104         6.5        3.0         5.8        2.2   Iris-virginica        3\n",
       "105         7.6        3.0         6.6        2.1   Iris-virginica        3\n",
       "106         4.9        2.5         4.5        1.7   Iris-virginica        2\n",
       "107         7.3        2.9         6.3        1.8   Iris-virginica        3\n",
       "108         6.7        2.5         5.8        1.8   Iris-virginica        3\n",
       "109         7.2        3.6         6.1        2.5   Iris-virginica        3\n",
       "110         6.5        3.2         5.1        2.0   Iris-virginica        3\n",
       "111         6.4        2.7         5.3        1.9   Iris-virginica        3\n",
       "112         6.8        3.0         5.5        2.1   Iris-virginica        3\n",
       "113         5.7        2.5         5.0        2.0   Iris-virginica        1\n",
       "114         5.8        2.8         5.1        2.4   Iris-virginica        1\n",
       "115         6.4        3.2         5.3        2.3   Iris-virginica        3\n",
       "116         6.5        3.0         5.5        1.8   Iris-virginica        3\n",
       "117         7.7        3.8         6.7        2.2   Iris-virginica        3\n",
       "118         7.7        2.6         6.9        2.3   Iris-virginica        3\n",
       "119         6.0        2.2         5.0        1.5   Iris-virginica        1\n",
       "120         6.9        3.2         5.7        2.3   Iris-virginica        3\n",
       "121         5.6        2.8         4.9        2.0   Iris-virginica        1\n",
       "122         7.7        2.8         6.7        2.0   Iris-virginica        3\n",
       "123         6.3        2.7         4.9        1.8   Iris-virginica        3\n",
       "124         6.7        3.3         5.7        2.1   Iris-virginica        3\n",
       "125         7.2        3.2         6.0        1.8   Iris-virginica        3\n",
       "126         6.2        2.8         4.8        1.8   Iris-virginica        3\n",
       "127         6.1        3.0         4.9        1.8   Iris-virginica        3\n",
       "128         6.4        2.8         5.6        2.1   Iris-virginica        3\n",
       "129         7.2        3.0         5.8        1.6   Iris-virginica        3\n",
       "130         7.4        2.8         6.1        1.9   Iris-virginica        3\n",
       "131         7.9        3.8         6.4        2.0   Iris-virginica        3\n",
       "132         6.4        2.8         5.6        2.2   Iris-virginica        3\n",
       "133         6.3        2.8         5.1        1.5   Iris-virginica        3\n",
       "134         6.1        2.6         5.6        1.4   Iris-virginica        3\n",
       "135         7.7        3.0         6.1        2.3   Iris-virginica        3\n",
       "136         6.3        3.4         5.6        2.4   Iris-virginica        3\n",
       "137         6.4        3.1         5.5        1.8   Iris-virginica        3\n",
       "138         6.0        3.0         4.8        1.8   Iris-virginica        1\n",
       "139         6.9        3.1         5.4        2.1   Iris-virginica        3\n",
       "140         6.7        3.1         5.6        2.4   Iris-virginica        3\n",
       "141         6.9        3.1         5.1        2.3   Iris-virginica        3\n",
       "142         5.8        2.7         5.1        1.9   Iris-virginica        1\n",
       "143         6.8        3.2         5.9        2.3   Iris-virginica        3\n",
       "144         6.7        3.3         5.7        2.5   Iris-virginica        3\n",
       "145         6.7        3.0         5.2        2.3   Iris-virginica        3\n",
       "146         6.3        2.5         5.0        1.9   Iris-virginica        3\n",
       "147         6.5        3.0         5.2        2.0   Iris-virginica        3\n",
       "148         6.2        3.4         5.4        2.3   Iris-virginica        3\n",
       "149         5.9        3.0         5.1        1.8   Iris-virginica        1"
      ]
     },
     "execution_count": 304,
     "metadata": {},
     "output_type": "execute_result"
    }
   ],
   "source": [
    "data"
   ]
  },
  {
   "cell_type": "markdown",
   "metadata": {},
   "source": [
    "# now iterating over rows and changing the clusters"
   ]
  },
  {
   "cell_type": "code",
   "execution_count": null,
   "metadata": {},
   "outputs": [],
   "source": []
  },
  {
   "cell_type": "code",
   "execution_count": null,
   "metadata": {},
   "outputs": [],
   "source": []
  },
  {
   "cell_type": "code",
   "execution_count": 311,
   "metadata": {
    "scrolled": true
   },
   "outputs": [],
   "source": [
    "need_to_finish = False\n",
    "\n",
    "num_iters = 1\n",
    "\n",
    "while need_to_finish == False: \n",
    "    \n",
    "    objects = []\n",
    "    for j in range(k):\n",
    "        sep_length_mean = data.loc[data['cluster'] == j+1]['sep_length'].mean()\n",
    "        sep_width_mean = data.loc[data['cluster'] == j+1]['sep_width'].mean()\n",
    "        pet_length_mean = data.loc[data['cluster'] == j+1]['pet_length'].mean()\n",
    "        pet_width_mean = data.loc[data['cluster'] == j+1]['pet_width'].mean()\n",
    "        objects.append(centroid(sep_length_mean,sep_width_mean,pet_length_mean,pet_width_mean, j+1))\n",
    "    \n",
    "    num_iters += 1\n",
    "        \n",
    "    data, need_to_finish = assign_new_clusters(data, objects, \"jaccard\")    "
   ]
  },
  {
   "cell_type": "markdown",
   "metadata": {},
   "source": [
    "# final resutls"
   ]
  },
  {
   "cell_type": "code",
   "execution_count": 291,
   "metadata": {},
   "outputs": [
    {
     "name": "stdout",
     "output_type": "stream",
     "text": [
      "5.093750000000001 3.7125000000000004 1.3687500000000001 0.23125000000000004\n",
      "6.121428571428572 2.8928571428571437 4.541964285714287 1.520535714285715\n",
      "4.972727272727273 3.3954545454545455 1.5090909090909093 0.2636363636363637\n"
     ]
    }
   ],
   "source": [
    "for a in range(k):\n",
    "    print(objects[a].sep_length, objects[a].sep_width, objects[a].pet_length, objects[a].pet_width)"
   ]
  },
  {
   "cell_type": "code",
   "execution_count": null,
   "metadata": {},
   "outputs": [],
   "source": []
  },
  {
   "cell_type": "code",
   "execution_count": 274,
   "metadata": {},
   "outputs": [],
   "source": [
    "def calculate_SSE(data, objects):\n",
    "    SSE = 0\n",
    "    for i in data.index:\n",
    "        if data.loc[i,\"cluster\"] == 1:\n",
    "            SSE += (data.loc[i, \"sep_length\"] - objects[0].sep_length)**2 + (data.loc[i, \"sep_width\"] - objects[0].sep_width)**2 + (data.loc[i, \"pet_length\"] - objects[0].pet_length)**2 + (data.loc[i, \"pet_width\"] - objects[0].pet_width)**2\n",
    "        if data.loc[i,\"cluster\"] == 2:\n",
    "            SSE += (data.loc[i, \"sep_length\"] - objects[1].sep_length)**2 + (data.loc[i, \"sep_width\"] - objects[1].sep_width)**2 + (data.loc[i, \"pet_length\"] - objects[1].pet_length)**2 + (data.loc[i, \"pet_width\"] - objects[1].pet_width)**2\n",
    "        if data.loc[i,\"cluster\"] == 2:\n",
    "            SSE += (data.loc[i, \"sep_length\"] - objects[2].sep_length)**2 + (data.loc[i, \"sep_width\"] - objects[2].sep_width)**2 + (data.loc[i, \"pet_length\"] - objects[2].pet_length)**2 + (data.loc[i, \"pet_width\"] - objects[2].pet_width)**2\n",
    "            \n",
    "    return SSE"
   ]
  },
  {
   "cell_type": "code",
   "execution_count": 131,
   "metadata": {},
   "outputs": [
    {
     "data": {
      "text/plain": [
       "616.7878029245853"
      ]
     },
     "execution_count": 131,
     "metadata": {},
     "output_type": "execute_result"
    }
   ],
   "source": [
    "# for euclidean:\n",
    "calculate_SSE(data, objects)"
   ]
  },
  {
   "cell_type": "code",
   "execution_count": null,
   "metadata": {},
   "outputs": [],
   "source": []
  },
  {
   "cell_type": "code",
   "execution_count": 266,
   "metadata": {},
   "outputs": [
    {
     "data": {
      "text/plain": [
       "2002.2788112455721"
      ]
     },
     "execution_count": 266,
     "metadata": {},
     "output_type": "execute_result"
    }
   ],
   "source": [
    "# for cosine:\n",
    "calculate_SSE(data, objects)"
   ]
  },
  {
   "cell_type": "code",
   "execution_count": null,
   "metadata": {},
   "outputs": [],
   "source": []
  },
  {
   "cell_type": "code",
   "execution_count": 275,
   "metadata": {},
   "outputs": [
    {
     "data": {
      "text/plain": [
       "523.3533787906805"
      ]
     },
     "execution_count": 275,
     "metadata": {},
     "output_type": "execute_result"
    }
   ],
   "source": [
    "# for jaccard:\n",
    "calculate_SSE(data, objects)"
   ]
  },
  {
   "cell_type": "code",
   "execution_count": null,
   "metadata": {},
   "outputs": [],
   "source": []
  },
  {
   "cell_type": "code",
   "execution_count": 313,
   "metadata": {},
   "outputs": [
    {
     "data": {
      "text/plain": [
       "3"
      ]
     },
     "execution_count": 313,
     "metadata": {},
     "output_type": "execute_result"
    }
   ],
   "source": [
    "# iters for euclidean\n",
    "num_iters"
   ]
  },
  {
   "cell_type": "code",
   "execution_count": 312,
   "metadata": {},
   "outputs": [
    {
     "data": {
      "text/plain": [
       "3"
      ]
     },
     "execution_count": 312,
     "metadata": {},
     "output_type": "execute_result"
    }
   ],
   "source": [
    "# iters for cosine\n",
    "num_iters"
   ]
  },
  {
   "cell_type": "code",
   "execution_count": 306,
   "metadata": {},
   "outputs": [
    {
     "data": {
      "text/plain": [
       "3"
      ]
     },
     "execution_count": 306,
     "metadata": {},
     "output_type": "execute_result"
    }
   ],
   "source": [
    "# iters for jaccard\n",
    "num_iters"
   ]
  },
  {
   "cell_type": "code",
   "execution_count": null,
   "metadata": {},
   "outputs": [],
   "source": [
    "##task4"
   ]
  },
  {
   "cell_type": "code",
   "execution_count": 6,
   "metadata": {},
   "outputs": [],
   "source": [
    "import math"
   ]
  },
  {
   "cell_type": "code",
   "execution_count": 7,
   "metadata": {},
   "outputs": [],
   "source": [
    "def euclidean(A,B):\n",
    "    \n",
    "    horiz1=(A[0]-B[0])**2\n",
    "    vertic1=(A[1]-B[1])**2\n",
    "    euc=math.sqrt(horiz1 + vertic1)\n",
    "        \n",
    "    return euc"
   ]
  },
  {
   "cell_type": "code",
   "execution_count": 8,
   "metadata": {},
   "outputs": [],
   "source": [
    "points = [[4.7,3.2],[4.9,3.1],[5.0,3.0],[4.6,2.9],[5.9,3.2],[6.7,3.1],[6.0,3.0],[6.2,2.8]]"
   ]
  },
  {
   "cell_type": "code",
   "execution_count": 10,
   "metadata": {},
   "outputs": [],
   "source": [
    "list_of_dists = []\n",
    "for i in range(len(points)):\n",
    "    for j in range(len(points)):\n",
    "        list_of_dists.append(euclidean(points[i], points[j]))"
   ]
  },
  {
   "cell_type": "code",
   "execution_count": 11,
   "metadata": {},
   "outputs": [
    {
     "data": {
      "text/plain": [
       "[0.0,\n",
       " 0.22360679774997916,\n",
       " 0.3605551275463989,\n",
       " 0.3162277660168384,\n",
       " 1.2000000000000002,\n",
       " 2.0024984394500787,\n",
       " 1.3152946437965904,\n",
       " 1.5524174696260025,\n",
       " 0.22360679774997916,\n",
       " 0.0,\n",
       " 0.1414213562373093,\n",
       " 0.3605551275463996,\n",
       " 1.004987562112089,\n",
       " 1.7999999999999998,\n",
       " 1.1045361017187258,\n",
       " 1.3341664064126333,\n",
       " 0.3605551275463989,\n",
       " 0.1414213562373093,\n",
       " 0.0,\n",
       " 0.4123105625617664,\n",
       " 0.9219544457292891,\n",
       " 1.7029386365926404,\n",
       " 1.0,\n",
       " 1.216552506059644,\n",
       " 0.3162277660168384,\n",
       " 0.3605551275463996,\n",
       " 0.4123105625617664,\n",
       " 0.0,\n",
       " 1.3341664064126342,\n",
       " 2.109502310972899,\n",
       " 1.4035668847618203,\n",
       " 1.6031219541881403,\n",
       " 1.2000000000000002,\n",
       " 1.004987562112089,\n",
       " 0.9219544457292891,\n",
       " 1.3341664064126342,\n",
       " 0.0,\n",
       " 0.8062257748298548,\n",
       " 0.22360679774997896,\n",
       " 0.5000000000000001,\n",
       " 2.0024984394500787,\n",
       " 1.7999999999999998,\n",
       " 1.7029386365926404,\n",
       " 2.109502310972899,\n",
       " 0.8062257748298548,\n",
       " 0.0,\n",
       " 0.7071067811865478,\n",
       " 0.5830951894845302,\n",
       " 1.3152946437965904,\n",
       " 1.1045361017187258,\n",
       " 1.0,\n",
       " 1.4035668847618203,\n",
       " 0.22360679774997896,\n",
       " 0.7071067811865478,\n",
       " 0.0,\n",
       " 0.2828427124746193,\n",
       " 1.5524174696260025,\n",
       " 1.3341664064126333,\n",
       " 1.216552506059644,\n",
       " 1.6031219541881403,\n",
       " 0.5000000000000001,\n",
       " 0.5830951894845302,\n",
       " 0.2828427124746193,\n",
       " 0.0]"
      ]
     },
     "execution_count": 11,
     "metadata": {},
     "output_type": "execute_result"
    }
   ],
   "source": [
    "list_of_dists"
   ]
  },
  {
   "cell_type": "code",
   "execution_count": 17,
   "metadata": {},
   "outputs": [
    {
     "data": {
      "text/plain": [
       "2.109502310972899"
      ]
     },
     "execution_count": 17,
     "metadata": {},
     "output_type": "execute_result"
    }
   ],
   "source": [
    "euclidean(points[3], points[5])"
   ]
  },
  {
   "cell_type": "code",
   "execution_count": 18,
   "metadata": {},
   "outputs": [
    {
     "data": {
      "text/plain": [
       "1.0"
      ]
     },
     "execution_count": 18,
     "metadata": {},
     "output_type": "execute_result"
    }
   ],
   "source": [
    "euclidean(points[2], points[6])"
   ]
  },
  {
   "cell_type": "code",
   "execution_count": 15,
   "metadata": {},
   "outputs": [
    {
     "data": {
      "text/plain": [
       "22.605703767833187"
      ]
     },
     "execution_count": 15,
     "metadata": {},
     "output_type": "execute_result"
    }
   ],
   "source": [
    "euclidean(points[0], points[4])+euclidean(points[0], points[5])+euclidean(points[0], points[6])+euclidean(points[0], points[7])+euclidean(points[1], points[4])+euclidean(points[1], points[5])+euclidean(points[1], points[6])+euclidean(points[1], points[7])+euclidean(points[2], points[4])+euclidean(points[2], points[5])+euclidean(points[2], points[6])+euclidean(points[2], points[7])+euclidean(points[3], points[4])+euclidean(points[3], points[5])+euclidean(points[3], points[6])+euclidean(points[3], points[7])"
   ]
  },
  {
   "cell_type": "code",
   "execution_count": 16,
   "metadata": {},
   "outputs": [
    {
     "data": {
      "text/plain": [
       "1.41285625"
      ]
     },
     "execution_count": 16,
     "metadata": {},
     "output_type": "execute_result"
    }
   ],
   "source": [
    "22.60570/16"
   ]
  },
  {
   "cell_type": "code",
   "execution_count": null,
   "metadata": {},
   "outputs": [],
   "source": []
  }
 ],
 "metadata": {
  "kernelspec": {
   "display_name": "Python 3",
   "language": "python",
   "name": "python3"
  },
  "language_info": {
   "codemirror_mode": {
    "name": "ipython",
    "version": 3
   },
   "file_extension": ".py",
   "mimetype": "text/x-python",
   "name": "python",
   "nbconvert_exporter": "python",
   "pygments_lexer": "ipython3",
   "version": "3.7.6"
  }
 },
 "nbformat": 4,
 "nbformat_minor": 4
}
